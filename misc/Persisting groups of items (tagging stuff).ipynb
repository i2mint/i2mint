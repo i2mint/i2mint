{
 "cells": [
  {
   "cell_type": "code",
   "execution_count": 1,
   "id": "881b2c1a",
   "metadata": {
    "ExecuteTime": {
     "end_time": "2023-04-20T15:22:19.235400Z",
     "start_time": "2023-04-20T15:22:19.188832Z"
    }
   },
   "outputs": [],
   "source": [
    "%load_ext autoreload\n",
    "%autoreload 2"
   ]
  },
  {
   "cell_type": "markdown",
   "id": "229668f7",
   "metadata": {},
   "source": [
    "This notebook is meant to demo a few dev techniques when tackling a new problem. \n",
    "\n",
    "It involves: TDD, typing, scaffolding, protocols, facades, repository pattern,... "
   ]
  },
  {
   "cell_type": "markdown",
   "id": "03f4d676",
   "metadata": {},
   "source": [
    "## The problem"
   ]
  },
  {
   "cell_type": "markdown",
   "id": "29ac12bf",
   "metadata": {},
   "source": [
    "The original problem: **As a user, I can tag (recording) sessions, view my tags, and retrieve the sessions for a given tag.**\n",
    "\n",
    "_(Note that tagging is equivalent to grouping, and is itself more general than heirarchical (i.e. tree structure) grouping.)_\n",
    "\n",
    "Questions:\n",
    "\n",
    "- Where do I store the tag/sessions info?\n",
    "- How (what data structure, what am I actually storing)?\n",
    "\n",
    "Answers:\n",
    "\n",
    "Shouldn't start with those questions. Those questions have to do with specifics. Of course, we'll need to make choices about those questions eventually, but we'll produce a brittle code-base if we don't first think of abstractions.\n",
    "\n",
    "Let's first think of a more general expression of what we're actually trying to do, and find a less specific vocabulary to describe it. We can (maybe even should) reintroduce the domain-specific vocabulary, as a layer on top of the more general mechanism, but we want to give ourselves a chance of knowing what the more abstract problem pattern is.\n",
    "\n",
    "The transformed, more general, so reusable, problem: **Same as above but replace \"sessions\" with \"objects\".**\n",
    "\n",
    "Then:\n",
    "\n",
    "* First look at what makes sense in the domain/interface -- Express this with types and tests\n",
    "\n",
    "* Then implement the interface, with a backend that corresponds to the current constraints"
   ]
  },
  {
   "cell_type": "markdown",
   "id": "be372510",
   "metadata": {},
   "source": [
    "Our tagging problem comes down to CRUD on `(tag, obj)` pairs. \n",
    "We assume a many-to-many situation where a same `obj` can have several `tags` and \n",
    "a same `tag` can be used by several `objs`. \n",
    "Assuming we don't have to track anything further than a **set** of `(tag, obj)` pairs\n",
    "(for example, no multiplicity, or date, or author of the pair), we can use a \n",
    "`typing.MutableMapping` interface for tag-obj pairs: \n",
    "Either `objs[obj] = tags` or `tags[tag] = objs`.\n",
    "\n",
    "An example of a `tags[tag] = objs` interface:\n",
    "\n",
    "```python\n",
    "\n",
    "# Example if we use sets of objects\n",
    "tags['favorites'] = {obj1, obj2}  # create a (tag-)group called \"favorites\" and put two object in it\n",
    "tags['favorites'].add(obj3)  # tag obj3 by 'favorites', i.e. add an object in the \"favorites\" group\n",
    "tags['favorites'] |= {obj3}  # (approx) equivalent -- to add multiple objects at the same time\n",
    "assert tags['favorites'] == {obj1, obj2, obj3}  # get objects for a given group\n",
    "\n",
    "# Example if we use lists of objects\n",
    "tags['favorites'] = [obj1, obj2]  # create a group called \"favorites\" and put two object in it\n",
    "tags['favorites'].append(obj3)  # add an object in the \"favorites\" group\n",
    "tags['favorites'].extend([obj3])  # (approx) equivalent -- to add multiple objects at the same time\n",
    "tags['favorites'] += [obj3]  # (approx) equivalent\n",
    "assert tags['favorites'] == [obj1, obj2, obj3]  # get objects for a given group\n",
    "\n",
    "# List tags\n",
    "assert 'favorites' in list(tags)  # I can list tags (and find 'favorites' in the list)\n",
    "assert 'favorites' in tags  # the tags Mapping is also a container (has a `__contains__`)\n",
    "\n",
    "```\n",
    "\n",
    "Note that `objs[obj] = tags` could seem like a strange choice. \n",
    "Wouldn't `tags[obj] == set_of_tags_associated_with_obj` read better? \n",
    "Indeed it would. But then `list(tags)` would not read very well! \n",
    "You would expect that `list(tags)` would give you a list of tags, but in \n",
    "the \"better\" alternative we just proposed, it would actually be a list of objects."
   ]
  },
  {
   "cell_type": "markdown",
   "id": "daa5c57c",
   "metadata": {},
   "source": [
    "## TDD: Tests that describe the behavior we want"
   ]
  },
  {
   "cell_type": "code",
   "execution_count": 1,
   "id": "32434d2b",
   "metadata": {},
   "outputs": [],
   "source": [
    "from typing import MutableMapping, Iterable, Any, NewType, Callable, Protocol, Optional\n",
    "\n",
    "Tag = NewType('Tag', str)\n",
    "Obj = NewType('Object', Any)  # or just object?\n",
    "\n",
    "\n",
    "class TaggerProtocol(Protocol):\n",
    "    def tag_objs(self, tag: Tag, *objs: Iterable[Obj]) -> Any:\n",
    "        \"\"\"tag one or several objs \"\"\"\n",
    "\n",
    "    def tags(self, obj: Optional[Obj] = None) -> Iterable[Tag]:\n",
    "        \"\"\"List tags of obj, or all tags if obj is None\"\"\"\n",
    "\n",
    "    def objs(self, tag: Optional[Tag] = None) -> Iterable[Obj]:\n",
    "        \"\"\"List objs with tag, or all objs if tag is None\"\"\"\n",
    "\n",
    "\n",
    "def test_tagger(tagger: TaggerProtocol):\n",
    "    # the following assertion isn't part of the behavior we want -- just a condition we'll \n",
    "    # need to be able to conduct our test: Namely, that our collection of tagings/objs is empty.\n",
    "\n",
    "    assert list(tagger.tags()) == []  # make sure test is well setup (tagger is empty)\n",
    "\n",
    "    tagger.tag_objs('tag_a', 'obj_1', 'obj_2')\n",
    "    assert sorted(tagger.tags()) == ['tag_a']  # unfiltered tags() method\n",
    "\n",
    "    tagger.tag_objs('tag_b', 'obj_3')\n",
    "    assert sorted(tagger.tags()) == ['tag_a', 'tag_b']  \n",
    "    assert sorted(tagger.objs('tag_a')) == ['obj_1', 'obj_2']  # filtered objs() method\n",
    "\n",
    "    tagger.tag_objs('tag_c', 'obj_3')\n",
    "    assert sorted(tagger.tags()) == ['tag_a', 'tag_b', 'tag_c']\n",
    "    assert sorted(tagger.tags('obj_3')) == ['tag_b', 'tag_c']  # filtered tags() method\n",
    "\n",
    "    # unfiltered objs() method\n",
    "    assert sorted(tagger.objs()) == ['obj_1', 'obj_2', 'obj_3']\n"
   ]
  },
  {
   "cell_type": "markdown",
   "id": "448607c4",
   "metadata": {},
   "source": [
    "Now we'll implement two concrete `TaggerProtocol`, using a store, a `MutableMapping`, as a back-end so as to keep the persistance concern still separate. \n",
    "\n",
    "The idea is: As long as we provide our concrete persister with the right `MutableMapping` facade (with a minimum of specifics/semantics such as what the keys and values are meant to be), we should have a working object.\n",
    "\n",
    "The two `TaggerProtocol` options will differ on the particulars of the store. \n",
    "- In the first, we'll assume the store has objs as keys and tags as values. \n",
    "- In the second we'll assume the tags are the keys, and values are sets of objs of that group."
   ]
  },
  {
   "cell_type": "markdown",
   "id": "4c13bc56",
   "metadata": {},
   "source": [
    "We now have our facade for tagging -- we'll go further and facade the persister that our tagger will use with a `typing.MutableMapping`\n",
    "(i.e. a dict-like key-value interface).\n",
    "Then, all we'll need to do to implement a concrete tagger is endow this interface with a concrete backend (a data base, or file system etc.).\n",
    "\n",
    "So now we need to choose what the key and what the value should be in our key-value interface. \n",
    "\n",
    "We have two obvious choices:\n",
    "\n",
    "```python\n",
    "# Group `tags` under the `obj` that\n",
    "# TagsForObj: Each `obj` points to the `tags` that it was tagged with\n",
    "s[obj] = tags\n",
    "# ObjsForTag: Each `tag` points to the `objs` that were tagged by it\n",
    "s[tag] = objs\n",
    "```\n",
    "\n",
    "Insofar as objects and tags are of the same type, both solutions are identical from an implementation point of view. \n",
    "Further, once you have one, you can get the other:\n",
    "\n",
    "```python\n",
    "def get_objs_of_tag(tag, tags_of_obj: Mapping[Obj, Tags]) -> Mapping[Tag, Objs]:\n",
    "    from collections import defaultdict\n",
    "\n",
    "    objs_of_tag = defaultdict(set)\n",
    "    for obj, tags in tags_of_obj.objs():\n",
    "        for tag in tags:\n",
    "            objs_of_tag[tag].add(obj)\n",
    "```\n",
    "\n",
    "(See more about this in the \"bi-directional mapping\" appendix below.)\n",
    "\n",
    "Practically, though, one of these grouping forms may usually make more sense than the other, given the context. \n",
    "\n",
    "Below we'll implement two taggers, both using a `store: typing.MutableMapping` \n",
    "as its \"persistence\" backend: The first assuming `store[obj]` is a set of tags\n",
    "and the second assuming `store[tag]` is a set of objects. \n",
    "\n",
    "We'll then be able to implement our concrete tagger by injecting the `store` dependency.\n",
    "\n",
    "\n"
   ]
  },
  {
   "cell_type": "markdown",
   "id": "dce4020d",
   "metadata": {},
   "source": [
    "## Concrete Tagger (option 1): Using a TagsOfObj store"
   ]
  },
  {
   "cell_type": "code",
   "execution_count": 31,
   "id": "8f4b640f",
   "metadata": {},
   "outputs": [],
   "source": [
    "from typing import MutableMapping, Iterable, Any, NewType, Set\n",
    "from dataclasses import dataclass\n",
    "\n",
    "Tag = NewType('Tag', str)\n",
    "Obj = NewType('Object', Any)  # or just object?\n",
    "TagsOfObj = NewType('TagsOfObj', MutableMapping[Obj, Set[Tag]])\n",
    "\n",
    "def flatten_set(set_of_sets):\n",
    "    return {obj for subset in set_of_sets for obj in subset}\n",
    "\n",
    "\n",
    "@dataclass\n",
    "class TagsOfObjDacc:\n",
    "    store: TagsOfObj\n",
    "\n",
    "    def tags(self, obj: Optional[Obj] = None) -> Iterable[Tag]:\n",
    "        if obj is None:\n",
    "            return flatten_set(self.store.values())\n",
    "        else:\n",
    "            return self.store[obj]\n",
    "\n",
    "    def objs(self, tag: Optional[Tag] = None) -> Iterable[Obj]:\n",
    "        # TODO: Express this filtering in such a way that will allow us to take advantage of DB specifics\n",
    "        #  (e.g., passing on the filtering to the DB instead of filtering in python itself)\n",
    "        if tag is None:\n",
    "            return self.store.keys()\n",
    "        else:\n",
    "            return (obj for obj, tags in self.store.items() if tag in tags)\n",
    "        \n",
    "    def tag_objs(self, tag: Tag, *objs: Iterable[Obj]) -> Any:\n",
    "        for obj in objs:\n",
    "            _add_tag_to_obj(self.store, obj, tag)\n",
    "            \n",
    "\n",
    "\n",
    "class TagsOfObjDacc2(TagsOfObjDacc):\n",
    "    # Option 2: Depend only on value having add method (like a set does)\n",
    "    def tag_objs(self, tag: Tag, *objs: Iterable[Obj]) -> Any:\n",
    "        for obj in objs:\n",
    "            _add_tag_to_obj_2(self.store, obj, tag)\n",
    "\n",
    "    \n",
    "def _add_tag_to_obj(store: TagsOfObj, obj: Obj, tag: Tag):\n",
    "    # Option 1: Depend on a (immutable) __or__ method that returns the union\n",
    "    # store.setdefault(obj, set()) | {tag}\n",
    "    tags = store.get(obj, set()) | {tag}\n",
    "    store[obj] = tags\n",
    "\n",
    "def _add_tag_to_obj_2(store: TagsOfObj, obj: Obj, tag: Tag, ):\n",
    "    # Option 2: Depend on a (mutable) add method\n",
    "    store.setdefault(obj, set()).add(tag)\n",
    "\n",
    "def _add_tag_to_obj_3(store: TagsOfObj, obj: Obj, tag: Tag, ):\n",
    "    # Option 3: Depend on:\n",
    "    # * default value if key not in store\n",
    "    # * value has an __ior__ method (like a set does)\n",
    "    store[obj] |= {tag}\n",
    "\n",
    "\n",
    "\n",
    "# Test it:\n",
    "store = dict()  # make a store for TagsForObj to use\n",
    "tagger = TagsOfObjDacc(store)  # make a tagger (that will use that store to \"persist\")\n",
    "test_tagger(tagger)  # test the tagger\n",
    "\n",
    "store = dict()  # make a store for TagsForObj2 to use\n",
    "tagger = TagsOfObjDacc2(store)  # make a tagger (that will use that store to \"persist\")\n",
    "test_tagger(tagger)  # test the tagger\n",
    "\n"
   ]
  },
  {
   "cell_type": "code",
   "execution_count": null,
   "id": "01bcd847",
   "metadata": {},
   "outputs": [],
   "source": []
  },
  {
   "cell_type": "markdown",
   "id": "c499ffcc",
   "metadata": {},
   "source": [
    "## Concrete Tagger (option 2): Using a ObjsOfTag store"
   ]
  },
  {
   "cell_type": "code",
   "execution_count": 32,
   "id": "592012b3",
   "metadata": {},
   "outputs": [],
   "source": [
    "from typing import MutableMapping, Iterable, Any, NewType, Set\n",
    "from dataclasses import dataclass\n",
    "\n",
    "TagsForObj2ag = NewType('Tag', str)\n",
    "Obj = NewType('Object', Any)  # or just object?\n",
    "ObjsOfTag = NewType('ObjsOfTag', MutableMapping[Tag, Set[Obj]])\n",
    "\n",
    "# TODO: Note that the tags and objs methods are essentially those of tagsForObj, swapped\n",
    "#  Let's use that fact!\n",
    "@dataclass\n",
    "class ObjsOfTagDacc:\n",
    "    store: ObjsOfTag\n",
    "        \n",
    "    def tag_objs(self, tag: Tag, *objs: Iterable[Obj]) -> Any:\n",
    "        if tag not in self.store:\n",
    "            self.store[tag] = set()\n",
    "        self.store[tag] |= set(objs)\n",
    "\n",
    "    def tags(self, obj: Optional[Obj] = None) -> Iterable[Tag]:\n",
    "        if obj is None:\n",
    "            return set(self.store)\n",
    "        else:\n",
    "            return set(tag for tag, objs in self.store.items() if obj in objs)\n",
    "            \n",
    "    def objs(self, tag: Optional[Tag] = None) -> Iterable[Obj]:\n",
    "        if tag is None:\n",
    "            return flatten_set(self.store.values())\n",
    "        else:\n",
    "            return self.store[tag]\n",
    "    \n",
    "# Test it:\n",
    "store = dict()  # make a store for tagsForObj to use\n",
    "tagger = ObjsOfTagDacc(store)  # make a tagger (that will use that store to \"persist\")\n",
    "test_tagger(tagger)  # test the tagger"
   ]
  },
  {
   "cell_type": "code",
   "execution_count": null,
   "id": "d774183f",
   "metadata": {},
   "outputs": [],
   "source": []
  },
  {
   "cell_type": "markdown",
   "id": "86e23a7b",
   "metadata": {},
   "source": [
    "## Actual persisting stores using mongo"
   ]
  },
  {
   "cell_type": "code",
   "execution_count": 4,
   "id": "dccfa801",
   "metadata": {
    "ExecuteTime": {
     "end_time": "2023-04-20T15:31:06.184059Z",
     "start_time": "2023-04-20T15:31:06.177757Z"
    }
   },
   "outputs": [],
   "source": [
    "# from mongodol.base import MongoClient"
   ]
  },
  {
   "cell_type": "markdown",
   "id": "15e30fc6",
   "metadata": {},
   "source": [
    "### ObjTagPairs (for TagsForObj)"
   ]
  },
  {
   "cell_type": "markdown",
   "id": "47f92e87",
   "metadata": {
    "ExecuteTime": {
     "end_time": "2023-04-19T16:13:01.269936Z",
     "start_time": "2023-04-19T16:13:01.245529Z"
    }
   },
   "source": [
    "Options for implementing:\n",
    "\n",
    "```\n",
    "s[obj] = tags\n",
    "```\n",
    "\n",
    "Option 1: But here we'd need to produce the ID on write\n",
    "\n",
    "```\n",
    "--> {'_id': ID, 'tags': tags, 'obj': obj}\n",
    "```\n",
    "\n",
    "Option 2: But we need to allow re-writes on `_id`\n",
    "\n",
    "```\n",
    "--> {'_id': obj, 'tags': tags}\n",
    "```\n"
   ]
  },
  {
   "cell_type": "code",
   "execution_count": 33,
   "id": "50eaa0ca",
   "metadata": {
    "ExecuteTime": {
     "end_time": "2023-04-20T15:32:38.171203Z",
     "start_time": "2023-04-20T15:32:38.137796Z"
    }
   },
   "outputs": [],
   "source": [
    "# Option 2\n",
    "\n",
    "from operator import itemgetter\n",
    "\n",
    "from dol import wrap_kvs, Pipe\n",
    "from mongodol.stores import MongoStore  # Note: This is the original MongoStore, not based on the \"new\" mongodol objects\n",
    "\n",
    "\n",
    "# To be able to overwrite an existing (obj, taging) pair (by default MongoStore doesn't allow it)\n",
    "def delete_if_exists(self, k, v):\n",
    "    if k in self:\n",
    "        del self[k]\n",
    "    return v\n",
    "\n",
    "\n",
    "trans = Pipe(\n",
    "    wrap_kvs(\n",
    "        key_of_id=itemgetter('_id'), \n",
    "        id_of_key=lambda x: {'_id': x}, \n",
    "        obj_of_data=lambda x: set(x['tags']),\n",
    "        data_of_obj=lambda x: {'tags': list(x)}, \n",
    "        preset=delete_if_exists,\n",
    "    )\n",
    ")\n",
    "\n",
    "@trans\n",
    "class TagStore(MongoStore):\n",
    "    \"\"\"To taging objs\"\"\"\n",
    "    def __init__(self,\n",
    "        db_name='scrap',\n",
    "        collection_name='tagged_objects',\n",
    "        mongo_client_kwargs=None,\n",
    "    ):\n",
    "        super().__init__(\n",
    "            db_name=db_name,\n",
    "            collection_name=collection_name,\n",
    "            key_fields=['_id'],\n",
    "            data_fields=['tags'],\n",
    "            mongo_client_kwargs=mongo_client_kwargs\n",
    "        )\n",
    "    \n",
    "store = TagStore()\n",
    "\n",
    "# empty the store\n",
    "for k in store: \n",
    "    del store[k]\n",
    "\n",
    "tagger = TagsOfObjDacc(store)\n",
    "test_tagger(tagger)\n"
   ]
  },
  {
   "cell_type": "code",
   "execution_count": 34,
   "id": "e6e6eae6",
   "metadata": {
    "ExecuteTime": {
     "end_time": "2023-04-20T15:32:38.713083Z",
     "start_time": "2023-04-20T15:32:38.565314Z"
    }
   },
   "outputs": [
    {
     "data": {
      "text/plain": [
       "[({'_id': 'obj_1'}, {'tags': ['tag_a']}),\n",
       " ({'_id': 'obj_2'}, {'tags': ['tag_a']}),\n",
       " ({'_id': 'obj_3'}, {'tags': ['tag_c', 'tag_b']})]"
      ]
     },
     "execution_count": 34,
     "metadata": {},
     "output_type": "execute_result"
    }
   ],
   "source": [
    "underlying_store = store.store\n",
    "list(zip(underlying_store, underlying_store.values())) "
   ]
  },
  {
   "cell_type": "code",
   "execution_count": 35,
   "id": "7fed7ad4",
   "metadata": {},
   "outputs": [
    {
     "data": {
      "text/plain": [
       "[({'_id': 'obj_1'}, {'tags': ['tag_a']}),\n",
       " ({'_id': 'obj_2'}, {'tags': ['tag_a']}),\n",
       " ({'_id': 'obj_3'}, {'tags': ['tag_c', 'tag_b']})]"
      ]
     },
     "execution_count": 35,
     "metadata": {},
     "output_type": "execute_result"
    }
   ],
   "source": [
    "base_store = store.store.store\n",
    "list(zip(base_store, base_store.values())) "
   ]
  },
  {
   "cell_type": "markdown",
   "id": "134a8cae",
   "metadata": {},
   "source": [
    "... to be continued"
   ]
  },
  {
   "cell_type": "markdown",
   "id": "74670b4c",
   "metadata": {},
   "source": [
    "## Implementation that uses \"metadata\" collection"
   ]
  },
  {
   "cell_type": "markdown",
   "id": "7cb4e7eb",
   "metadata": {},
   "source": [
    "Say you already have a mongo collection that contains meta-data on your objects. \n",
    "That is, a collection that contains docs, one per object, \n",
    "that is intended to record information about this object,\n",
    "referenced by a (unique) `ref` field.\n",
    "\n",
    "We add a `tags` field to contain the tags for the object that is being referenced by `ref`.\n",
    "\n",
    "A natural container to hold the tags would be a set if we want to ensure there are no duplicates. \n",
    "But JSON doesn't have set types, so in MongoDB, we'd have to use a list. \n",
    "This is fine, since we can ensure uniqueness at the access level, but we'll chose \n",
    "anyway to use a dict (\"object\" in JSON) instead, whose fields will be the tags, \n",
    "and whose values will all be `True`. That is, instead of `[\"a\", \"list\", \"of\", \"tags\"]`, \n",
    "we'll use `{\"a\": True, \"list\": True, \"of\": True, \"tags\": True}`. \n",
    "\n",
    "This will not only ensure uniqueness, but also \n",
    "enable us to index specific tags if and when we want efficient tag grouping, \n",
    "i.e. being able to efficient respond to the query \"all objects tagged [TAG]\". "
   ]
  },
  {
   "cell_type": "code",
   "execution_count": 36,
   "id": "7e86cbf5",
   "metadata": {},
   "outputs": [],
   "source": [
    "test_metadata_docs = [\n",
    "    {\n",
    "        \"_id\": \"123\",\n",
    "        \"ref\": \"absolute/reference/to/content\",\n",
    "        \"some\": \"other metadata\",  # just to show there can be other stuff\n",
    "        \"tags\": {\n",
    "            # instead of a list, we'll use an object (dict), whose fields are the taging names\n",
    "            # This is because mongoDB allows us to index fields, therefore automatically \n",
    "            # get the bidirectional mapping from tagings to refs the taging \"contains\"\n",
    "            \"apple\": True,\n",
    "            \"sauce\": True,\n",
    "        }\n",
    "    },\n",
    "    {\n",
    "        \"_id\": \"456\",\n",
    "        \"ref\": \"absolute/reference/to/some/other/content\",\n",
    "        \"tags\": {\n",
    "            \"apple\": True,\n",
    "            \"pie\": True,\n",
    "        }\n",
    "    },\n",
    "    {\n",
    "        \"_id\": \"789\",\n",
    "        \"ref\": \"this/ref/is/necessary\",\n",
    "        \"optional\": \"metadata\",\n",
    "        # and no tags here (but whenever someone/something adds a tag, it will be added here)\n",
    "    }\n",
    "]\n",
    "\n",
    "# Make a collection with only those docs in it\n",
    "\n",
    "from mongodol import MongoCollectionPersister\n",
    "\n",
    "def prepare_test_collection(mongo_store, test_metadata_docs=test_metadata_docs):\n",
    "    assert mongo_store.mgc.database.name == 'test', \"needs to be in a test db for safety\"\n",
    "\n",
    "    # Make a \"raw\" collection persister for the collection underlying the mongo_store\n",
    "    collection_uri = f\"{mongo_store.mgc.database.name}/{mongo_store.mgc.name}\"\n",
    "    s = MongoCollectionPersister(collection_uri, iter_projection=None)\n",
    "\n",
    "    # delete all docs\n",
    "    for doc in s:\n",
    "        del s[doc]\n",
    "\n",
    "    # verify there's no more docs\n",
    "    assert list(s) == []\n",
    "\n",
    "    # write the test docs\n",
    "    for doc in test_metadata_docs:\n",
    "        s[doc] = doc\n",
    "\n",
    "    # verify the docs have been written\n",
    "    assert list(s) == test_metadata_docs\n",
    "\n",
    "    # return this mongo collection (in case user wants to use it)\n",
    "    return s\n",
    "\n",
    "\n",
    "def test_metadata_based_tagger_mongo_store(\n",
    "        tag_store_cls, \n",
    "        collection_uri='test/tagged_objects'\n",
    "    ):\n",
    "\n",
    "    m = tag_store_cls(collection_uri)\n",
    "    prepare_test_collection(m)\n",
    "\n",
    "    # Case: The ref exists, and is already tagged\n",
    "    ref = \"absolute/reference/to/content\"\n",
    "    assert m[ref] == {\"apple\", \"sauce\"}\n",
    "    m[ref] |= [\"sauce\", \"pan\"]\n",
    "    m[ref] |= \"a string\"\n",
    "    assert m[ref] == {\"apple\", \"sauce\", \"pan\", \"a string\"}\n",
    "\n",
    "    # Extra: see what the doc looks like\n",
    "    assert next(iter(m.store[{\"ref\": ref}])) == {\n",
    "        \"_id\": \"123\",\n",
    "        \"ref\": \"absolute/reference/to/content\",\n",
    "        \"some\": \"other metadata\",\n",
    "        \"tags\": {\"a string\": True, \"apple\": True, \"pan\": True, \"sauce\": True},\n",
    "    }\n",
    "\n",
    "    # Case: The ref exists, but hasn't been tagged yet\n",
    "    ref = 'this/ref/is/necessary'\n",
    "    assert m[ref] == set([])\n",
    "    m[ref] = 'one tag'  # can insert a single tag with assignment (though `m[ref] |= {'one tag'}` works too!)\n",
    "    assert m[ref] == {'one tag'}\n",
    "    m[ref] = 'another tag'  # but if you use assignment, you're replacing all existing tags\n",
    "    assert m[ref] == {'another tag'}\n",
    "    # NOTE: As always with \"inplace\" mutating operations, if we would want to do\n",
    "    #  `m[ref].add(...)`` like we can do with set.add, we'd need to have `m[ref]`` be an\n",
    "    #  object that would \"write back\" to mongo\n",
    "\n",
    "    # Case: The ref doesn't exist.\n",
    "    ref = 'no/such/ref'\n",
    "    m[ref] |= ['a', 'doc', 'is', 'created']\n",
    "    assert m[ref] == {'a', 'created', 'doc', 'is'}\n",
    "\n",
    "\n",
    "\n"
   ]
  },
  {
   "cell_type": "code",
   "execution_count": 9,
   "id": "4f0f22d4",
   "metadata": {},
   "outputs": [],
   "source": [
    "from operator import itemgetter\n",
    "\n",
    "from dol import wrap_kvs, Pipe\n",
    "# from mongodol.stores import MongoStore\n",
    "from mongodol.base import MongoCollectionPersister, Mapping\n",
    "\n",
    "\n",
    "# TODO: Should this be the default MongoCollectionPersister? \n",
    "# TODO: Should the replace/update be a param?\n",
    "# TODO: Do any other methods need to be updated for the \"update\" (vs replace) mode?\n",
    "class MongoCollectionUpdater(MongoCollectionPersister):\n",
    "    def __setitem__(self, k, v):\n",
    "        assert isinstance(k, Mapping) and isinstance(\n",
    "            v, Mapping\n",
    "        ), f'k (key) and v (value) must both be mappings (often dictionaries). Were:\\n\\tk={k}\\n\\tv={v}'\n",
    "        return self.mgc.update_one(\n",
    "            self._merge_with_filt(k),\n",
    "            {\"$set\": self._build_doc(k, v)},\n",
    "            upsert=True,\n",
    "        )\n",
    "\n",
    "\n",
    "class UnicityError(ValueError):\n",
    "    \"\"\"When something should have been unique and wasn't\"\"\"\n",
    "\n",
    "class ConjunctiveSet(set):\n",
    "    \"\"\"A set that is forgiving from a point of view of conjunctions. \n",
    "    \n",
    "    That is, you can conjunct (\"or\") it with a string, list, tuple, or any iterable,\n",
    "    and instead of getting a `TypeError: unsupported operand type(s)` we get what \n",
    "    you'd most often expect:\n",
    "\n",
    "    >>> s = ConjunctiveSet({'this', 'and'})\n",
    "    >>> assert s | 'that' == {'this', 'and', 'that'}\n",
    "    >>> assert s | ['the', 'other'] == {'this', 'and', 'the', 'other'}\n",
    "    \n",
    "    \"\"\"\n",
    "    def __or__(self, other):\n",
    "        if isinstance(other, str):\n",
    "            other = {other}\n",
    "        return super(ConjunctiveSet, self).__or__(set(other))\n",
    "    \n",
    "def there_is_more_in_the_cursor(cursor):\n",
    "    return next(cursor, None) is not None\n",
    "\n",
    "def first_doc_of_cursor_or_empty_dict(cursor):\n",
    "    v = next(cursor, None)\n",
    "    if v is None:\n",
    "        return dict()\n",
    "    elif there_is_more_in_the_cursor(cursor):\n",
    "        raise UnicityError(f\"There should be only one match, but was several\")\n",
    "    else:\n",
    "        return v\n",
    "    \n",
    "\n",
    "def value_decode(cursor):\n",
    "    doc = first_doc_of_cursor_or_empty_dict(cursor)\n",
    "    return ConjunctiveSet(doc.get('tags', set()))\n",
    "\n",
    "def value_encode(tags):\n",
    "    if isinstance(tags, str):\n",
    "        tags = {tags}\n",
    "    return {\"tags\": {tag: True for tag in tags}}\n",
    "\n",
    "trans = Pipe(\n",
    "    wrap_kvs(\n",
    "        key_of_id=itemgetter('ref'), \n",
    "        id_of_key=lambda x: {'ref': x}, \n",
    "        obj_of_data=value_decode,\n",
    "        data_of_obj=value_encode,\n",
    "        # preset=delete_if_exists,\n",
    "    )\n",
    ")\n",
    "\n",
    "@trans\n",
    "class MetadataTagStore(MongoCollectionUpdater):\n",
    "    \"\"\"To group items\"\"\"\n",
    "    def __init__(self,\n",
    "        mgc='test/tagged_objects',\n",
    "        iter_projection=('ref',), \n",
    "        # iter_projection=None, #tuple({'ref': True, '_id': False}.items()),\n",
    "        **mgc_find_kwargs,\n",
    "    ):\n",
    "        # if iter_projection is not None:\n",
    "        #     iter_projection = dict(iter_projection)\n",
    "        super().__init__(\n",
    "            mgc=mgc,\n",
    "            iter_projection=iter_projection,\n",
    "            **mgc_find_kwargs\n",
    "        )\n",
    "\n",
    "\n",
    "test_metadata_based_tagger_mongo_store(MetadataTagStore)"
   ]
  },
  {
   "cell_type": "code",
   "execution_count": 43,
   "id": "560b532e",
   "metadata": {},
   "outputs": [],
   "source": [
    "# Note: NOT WORKING YET!!\n",
    "from operator import itemgetter\n",
    "\n",
    "from dol import wrap_kvs, Pipe\n",
    "# from mongodol.stores import MongoStore\n",
    "from mongodol.base import MongoCollectionPersister, Mapping\n",
    "\n",
    "# TODO: Should this be the default MongoCollectionPersister? \n",
    "# TODO: Should the replace/update be a param?\n",
    "# TODO: Do any other methods need to be updated for the \"update\" (vs replace) mode?\n",
    "class MongoCollectionUpdater(MongoCollectionPersister):\n",
    "    def __setitem__(self, k, v):\n",
    "        assert isinstance(k, Mapping) and isinstance(\n",
    "            v, Mapping\n",
    "        ), f'k (key) and v (value) must both be mappings (often dictionaries). Were:\\n\\tk={k}\\n\\tv={v}'\n",
    "        return self.mgc.update_one(\n",
    "            self._merge_with_filt(k),\n",
    "            {\"$set\": self._build_doc(k, v)},\n",
    "            upsert=True,\n",
    "        )\n",
    "\n",
    "class UnicityError(ValueError):\n",
    "    \"\"\"When something should have been unique and wasn't\"\"\"\n",
    "\n",
    "class ConjunctiveSet(set):\n",
    "    \"\"\"A set that is forgiving from a point of view of conjunctions. \n",
    "    \n",
    "    That is, you can conjunct (\"or\") it with a string, list, tuple, or any iterable,\n",
    "    and instead of getting a `TypeError: unsupported operand type(s)` we get what \n",
    "    you'd most often expect:\n",
    "\n",
    "    >>> s = ConjunctiveSet({'this', 'and'})\n",
    "    >>> assert s | 'that' == {'this', 'and', 'that'}\n",
    "    >>> assert s | ['the', 'other'] == {'this', 'and', 'the', 'other'}\n",
    "    \n",
    "    \"\"\"\n",
    "    def __or__(self, other):\n",
    "        if isinstance(other, str):\n",
    "            other = {other}\n",
    "        return super(ConjunctiveSet, self).__or__(set(other))\n",
    "    \n",
    "def there_is_more_in_the_cursor(cursor):\n",
    "    return next(cursor, None) is not None\n",
    "\n",
    "def first_obj_of_cursor_or_empty_dict(cursor):\n",
    "    v = next(cursor, None)\n",
    "    if v is None:\n",
    "        return dict()\n",
    "    elif there_is_more_in_the_cursor(cursor):\n",
    "        raise UnicityError(f\"There should be only one match, but was several\")\n",
    "    else:\n",
    "        return v\n",
    "    \n",
    "\n",
    "def value_decode(cursor):\n",
    "    doc = first_obj_of_cursor_or_empty_dict(cursor)\n",
    "    return ConjunctiveSet(doc.get('tags', set()))\n",
    "\n",
    "def value_encode(tags):\n",
    "    if isinstance(tags, str):\n",
    "        tags = {tags}\n",
    "    return {\"tags\": {tag: True for tag in tags}}\n",
    "\n",
    "trans = Pipe(\n",
    "    wrap_kvs(\n",
    "        key_of_id=itemgetter('ref'), \n",
    "        id_of_key=lambda x: {'ref': x}, \n",
    "        obj_of_data=value_decode,\n",
    "        data_of_obj=value_encode,\n",
    "        # preset=delete_if_exists,\n",
    "    )\n",
    ")\n",
    "\n",
    "@trans\n",
    "class MetadataTagStore(MongoCollectionUpdater):\n",
    "    \"\"\"To taging objs\"\"\"\n",
    "    def __init__(self,\n",
    "        mgc='test/tagged_objects',\n",
    "        iter_projection=('ref',), \n",
    "        # iter_projection=None, #tuple({'ref': True, '_id': False}.objs()),\n",
    "        **mgc_find_kwargs,\n",
    "    ):\n",
    "        # if iter_projection is not None:\n",
    "        #     iter_projection = dict(iter_projection)\n",
    "        super().__init__(\n",
    "            mgc=mgc,\n",
    "            iter_projection=iter_projection,\n",
    "            **mgc_find_kwargs\n",
    "        )\n",
    "\n",
    "\n",
    "store = TagStore()\n",
    "\n",
    "for k in store:\n",
    "    del store[k]\n",
    "\n",
    "TagsOfObjDacc(store)\n",
    "\n",
    "test_tagger(TagsOfObjDacc(store))\n"
   ]
  },
  {
   "cell_type": "code",
   "execution_count": 44,
   "id": "20d75812",
   "metadata": {},
   "outputs": [],
   "source": [
    "# But test_tagger tests from an empty store. Let's test from a non-empty store:\n",
    "\n",
    "test_metadata_based_tagger_mongo_store(MetadataTagStore)"
   ]
  },
  {
   "cell_type": "code",
   "execution_count": null,
   "id": "47f97d23",
   "metadata": {},
   "outputs": [],
   "source": []
  },
  {
   "cell_type": "markdown",
   "id": "6626cb09",
   "metadata": {},
   "source": [
    "# Appendices"
   ]
  },
  {
   "cell_type": "markdown",
   "id": "b4d8c0cd",
   "metadata": {},
   "source": [
    "### What objects are we storing?\n",
    "\n",
    "Above, we used the word \"object\" (`obj1, obj2,...`) to denote what we're grouping or tagging, \n",
    "but note that in practice there'll be two cases that will need different implementations \n",
    "(and possibly interfaces): The object is a literal, or a reference. \n",
    "\n",
    "If objects are \"complex\", we'll want to store references (to the actual object's \n",
    "\"content\", which can then be resolved from the references). That is, when we say:\n",
    "\n",
    "```python\n",
    "assert tags['favorites'] == [obj1, obj2, obj3]\n",
    "```\n",
    "\n",
    "We really mean, at the base;\n",
    "\n",
    "```python\n",
    "assert ref_tags['favorites'] == [obj1_ref, obj2_ref, obj3_ref]\n",
    "```\n",
    "\n",
    "This `ref_tags` mapping can then be wrapped/enhanced, along with the `ref->obj` \n",
    "logic, to a mapping `obj_tags` that gives us acces to \"resolved objects\":\n",
    "\n",
    "```python\n",
    "assert obj_tags['favorites'] == [obj1, obj2, obj3]\n",
    "```\n",
    "\n",
    "But if we're doing something like \"label (tag/annotation) groups\" where we're doing something like\n",
    "\n",
    "```python\n",
    "tags['pizza/ingredients/normal'] += ['cheese', 'pepperoni']\n",
    "tags['pizza/ingredients/abnormal'] += ['nutella', 'french fries']\n",
    "```\n",
    "\n",
    "It seems silly to store the string `'cheese'` somewhere, and then reference it. \n",
    "Though from a design point of view it may be cleaner. \n",
    "There's design patterns for this (todo: find and reference).\n"
   ]
  },
  {
   "cell_type": "code",
   "execution_count": 11,
   "id": "fed12021",
   "metadata": {},
   "outputs": [
    {
     "data": {
      "text/plain": [
       "True"
      ]
     },
     "execution_count": 11,
     "metadata": {},
     "output_type": "execute_result"
    }
   ],
   "source": [
    "{'apple', 'sauce'}.issubset({'apple': 1, 'sauce': 2})"
   ]
  },
  {
   "cell_type": "markdown",
   "id": "c05677cd",
   "metadata": {},
   "source": [
    "### Bidirectional mappings -- How do groups and tags work together?\n",
    "\n",
    "Sometimes the perspective that makes sense is the \"tags\" perspective, \n",
    "i.e. being able to list existing tags and get a collection of objects given a tag:\n",
    "\n",
    "```python\n",
    "assert tags['favorites'] == [obj1, obj2, obj3]  # get objects for a given group\n",
    "```\n",
    "\n",
    "Sometimes the \"objs\" one makes more sense, \n",
    "i.e. being able to list objects and get a collection of tags given an object:\n",
    "\n",
    "```python\n",
    "assert {obj1, obj2, obj3}.issubset(objs)\n",
    "assert 'favorites' in objs[obj1]\n",
    "assert 'favorites' in objs[obj2]\n",
    "assert 'favorites' in objs[obj3]\n",
    "```\n",
    "\n",
    "Sometimes we need to have (and the hard part: maintain, synched) both:\n",
    "\n",
    "```python\n",
    "objs = tags_to_objs(tags)\n",
    "tags = objs_to_tags(objs)\n",
    "```\n",
    "\n",
    "The `tags_to_objs` and `objs_to_tags` functions above are not meant to return \n",
    "\"static\" `groups` and `tags` objects, but rather return objects from which we can get \n",
    "a \"dynamic\" view. For example:\n",
    "\n",
    "```python\n",
    "tags['favorites'] = [obj1]  # let's start with just one object in favorites\n",
    "\n",
    "assert tags['favorites'] == [obj1] \n",
    "# get a tags view of groups\n",
    "objs = tags_to_objs(tags)\n",
    "assert 'favorites' in objs[obj1]\n",
    "assert 'favorites' not in objs[obj2]\n",
    "assert 'favorites' not in objs[obj3]  # obj3 is not in the 'favorites' group (yet)\n",
    "\n",
    "# but (dynamic demo) if we add an object to groups\n",
    "groups['favorites'].append(obj2)\n",
    "assert groups['favorites'] == [obj1, obj2]  # we see it in groups\n",
    "assert 'favorites' in tags[obj2]  # but also in tags (without calling groups_to_tags again)\n",
    "tags[obj3].append('favorites')  # and also, if we tag obj3... \n",
    "assert groups['favorites'] == [obj1, obj2, obj3]  # ... we'll see the effect of this in groups\n",
    "```\n",
    "\n",
    "Might want to have a look at [relativity](https://github.com/kurtbrose/relativity) \n",
    "for some ideas regarding this two-way mapping. The README is very satisfying for \n",
    "a mathematician; it's very much an \"axiomatic\" approach to the problem.\n",
    "\n",
    "Note that some DBs already have support for this kind of \"(maintained) two way mapping\", \n",
    "in the form of \"indexing\". \n",
    "The `groups_to_tags` and `tags_to_groups` would have to take that into account."
   ]
  },
  {
   "cell_type": "markdown",
   "id": "93c885a5",
   "metadata": {},
   "source": [
    "### Questions\n",
    "\n",
    "* What resources might help us navigate this problem intelligently? Things like keywords, design patterns, and (light weight) third party tools might help us...\n",
    "* What's the abstract or base class for `groups` and `tags` instances?\n",
    "* How do we make these so that these are open-closed (e.g. \"plug-in architecture\") support for specifying back-end implementation details (e.g. using what MongoDB might have to offer to help out)? Namely, we'll want to take advantage of DB particulars to enable efficient `groups_to_tags` and `tags_to_groups`. \n",
    "* What supporting \"helpers\" should we implement to make the common group and tagging operations easy to perform. For example, we used the path `pizza/ingredients/normal` in one of our examples, and like all \"path systems\", we have a natural (nested) grouping, via folders and subfolders. Do we implement the `pizza` group and `ingredients` group as actual groups here, or do we just enable a \"groups\" view to the path strings?\n",
    "* How do we enable \"groups of groups\" recursiveness? That is, we'll want to make groups of groups, and groups of groups of groups, and have the ability to work at the level we need to (for example, might want to \"flatten\" a groups of groups view to a \"groups of objects\" view).\n"
   ]
  },
  {
   "cell_type": "code",
   "execution_count": null,
   "id": "9642257a",
   "metadata": {},
   "outputs": [],
   "source": []
  },
  {
   "cell_type": "markdown",
   "id": "ad2dd3f9",
   "metadata": {},
   "source": [
    "# Historical sections"
   ]
  },
  {
   "cell_type": "markdown",
   "id": "b16fe0d0",
   "metadata": {},
   "source": [
    "The interface for grouping/tagging was significantly changed, but keeping the original proposal below."
   ]
  },
  {
   "cell_type": "markdown",
   "id": "f182ada0",
   "metadata": {},
   "source": [
    "## A little digression on scaffolding"
   ]
  },
  {
   "cell_type": "code",
   "execution_count": null,
   "id": "d0ba5fe1",
   "metadata": {},
   "outputs": [],
   "source": [
    "from typing import MutableMapping, Iterable, Any, NewType, Callable\n",
    "\n",
    "Tag = NewType('Tag', str)\n",
    "Obj = NewType('Obj', Any)\n"
   ]
  },
  {
   "cell_type": "markdown",
   "id": "ad5b0b8d",
   "metadata": {},
   "source": [
    "What functionality do we want around groups and their objs?\n",
    "\n",
    "Let's express this through type annotations of some functions (which we'll encapsulate in a `Groups` class."
   ]
  },
  {
   "cell_type": "code",
   "execution_count": null,
   "id": "c17f7c03",
   "metadata": {},
   "outputs": [],
   "source": [
    "from typing import Optional\n",
    "class Tagger:\n",
    "    add_objs_to_tag: Callable[[Iterable[Obj], Tag], Any]\n",
    "    tags: Callable[[], Iterable[Tag]]\n",
    "    objs: Callable[[],Iterable[Obj]]\n",
    "    "
   ]
  },
  {
   "cell_type": "markdown",
   "id": "cb09c811",
   "metadata": {},
   "source": [
    "Note that this should now be sufficient to generate a scaffold of what we need. \n",
    "\n",
    "We'll do it in two ways: By (dynamically) creating a `typing.protocol` describing a concrete `Groups` object we could implement in the future, and by generating (the code string for) a concrete (but empty) such `Groups` class."
   ]
  },
  {
   "cell_type": "code",
   "execution_count": null,
   "id": "bfc35f8b",
   "metadata": {},
   "outputs": [
    {
     "data": {
      "text/plain": [
       "<Sig (self, iterable: Iterable[__main__.Object], tag: __main__.Tag) -> Any>"
      ]
     },
     "metadata": {},
     "output_type": "display_data"
    }
   ],
   "source": [
    "import i2\n",
    "\n",
    "from meshed.scrap.annotations_to_meshes import (\n",
    "    func_types_to_scaffold, \n",
    "    func_types_to_protocol\n",
    ")\n",
    "\n",
    "# Taggings.__annotations__ is a {name: func_annotation, ...} dict\n",
    "# We can make a protocol from that\n",
    "TagsProtocol = func_types_to_protocol(Tagger.__annotations__)\n",
    "\n",
    "# See that tagingsProtocol has methods for each obj of the \n",
    "# Taggings.__annotations__ dict. Each method bares a signature compatible with \n",
    "# the annotations.\n",
    "i2.Sig(TagsProtocol.add_objs_to_tag)\n",
    "# <Sig (self, iterable: Iterable[__main__.Obj], taging: __main__.taging) -> Any>"
   ]
  },
  {
   "cell_type": "code",
   "execution_count": null,
   "id": "014a9a1e",
   "metadata": {},
   "outputs": [
    {
     "name": "stdout",
     "output_type": "stream",
     "text": [
      "\n",
      "class GeneratedClass:\n",
      "    def add_objs_to_tag(self, iterable: Iterable, tag: Tag) -> Any:\n",
      "    \tpass\n",
      "\n",
      "    def tags(self) -> Iterable:\n",
      "    \tpass\n",
      "\n",
      "    def objs(self) -> Iterable:\n",
      "    \tpass\n",
      "\n"
     ]
    }
   ],
   "source": [
    "# We can also \n",
    "print(func_types_to_scaffold(Tagger.__annotations__))"
   ]
  },
  {
   "cell_type": "markdown",
   "id": "033a24f7",
   "metadata": {},
   "source": [
    "## TDD: Tests that describe the behavior we want"
   ]
  },
  {
   "cell_type": "code",
   "execution_count": null,
   "id": "69f64785",
   "metadata": {},
   "outputs": [],
   "source": [
    "from typing import MutableMapping, Iterable, Any, NewType, Callable, Protocol\n",
    "\n",
    "taging = NewType('taging', str)\n",
    "Obj = NewType('Obj', Any)\n",
    "\n",
    "\n",
    "class tagingsProtocol(Protocol):\n",
    "    def add_objs_to_taging(self, iterable: Iterable, taging: taging) -> Any:\n",
    "        \"\"\"Add one or several objs to a taging\"\"\"\n",
    "\n",
    "    def list_tagings(self) -> Iterable:\n",
    "        \"\"\"List taging names\"\"\"\n",
    "\n",
    "    def objs_for_taging(self, taging: taging) -> Iterable:\n",
    "        \"\"\"List the objs in a taging\"\"\"\n",
    "    \n",
    "    \n",
    "def test_tagings(tagings: tagingsProtocol):\n",
    "    # the following assertion isn't part of the behavior we want -- just a condition we'll \n",
    "    # need to be able to conduct our test: Namely, that our collection of tagings/objs is empty.\n",
    "    assert list(tagings.list_tagings()) == []  # make sure test is well setup\n",
    "    \n",
    "    tagings.add_objs_to_taging('taging_a', 'obj_1', 'obj_2')\n",
    "    assert sorted(tagings.list_tagings()) == ['taging_a']\n",
    "    \n",
    "    tagings.add_objs_to_taging('taging_b', 'obj_3')\n",
    "    assert sorted(tagings.list_tagings()) == ['taging_a', 'taging_b']\n",
    "    assert sorted(tagings.objs_for_taging('taging_a')) == ['obj_1', 'obj_2']\n",
    "    "
   ]
  },
  {
   "cell_type": "markdown",
   "id": "418a28e6",
   "metadata": {},
   "source": [
    "Now we'll implement two concrete `GroupsDacc`, using a store, a `MutableMapping`, as a back-end so as to keep the persistance concern still separate. \n",
    "\n",
    "The idea is: As long as we provide our concrete persister with the right `MutableMapping` facade (with a minimum of specifics/semantics such as what the keys and values are meant to be), we should have a working object.\n",
    "\n",
    "The two `GroupsDacc` options will differ on the particulars of the store. \n",
    "- In the first, we'll assume the store has objs as keys and groups as values. \n",
    "- In the second we'll assume the groups are the keys, and values are sets of objs of that group."
   ]
  },
  {
   "cell_type": "markdown",
   "id": "8fd48430",
   "metadata": {},
   "source": [
    "## Concrete GroupsDacc (option 1): ItemGroupDacc"
   ]
  },
  {
   "cell_type": "code",
   "execution_count": null,
   "id": "10496a65",
   "metadata": {},
   "outputs": [],
   "source": [
    "from typing import MutableMapping, Iterable, Any, NewType\n",
    "from dataclasses import dataclass\n",
    "\n",
    "taging = NewType('taging', str)\n",
    "Obj = NewType('Obj', Any)\n",
    "ObjtagingPairs = NewType('ObjtagingPairs', MutableMapping[Obj, taging])\n",
    "\n",
    "@dataclass\n",
    "class ObjtagingDacc:\n",
    "    store: ObjtagingPairs\n",
    "        \n",
    "    def add_objs_to_taging(self, taging: taging, *objs: Iterable[Obj]) -> Any:\n",
    "        for obj in objs:\n",
    "            self.store[obj] = taging\n",
    "\n",
    "    def list_tagings(self) -> Iterable[taging]:\n",
    "        return set(self.store.values())\n",
    "\n",
    "    def objs_for_taging(self, taging: taging) -> Iterable[Obj]:\n",
    "        # TODO: Exxpress this filtering in such a way that will allow us to take advantage of DB specifics\n",
    "        #  (e.g., passing on the filtering to the DB instead of filtering in python itself)\n",
    "        return (obj for obj, taging_ in self.store.objs() if taging_ == taging)\n",
    "    "
   ]
  },
  {
   "cell_type": "code",
   "execution_count": null,
   "id": "33a61fa8",
   "metadata": {},
   "outputs": [],
   "source": [
    "store = dict()\n",
    "test_tagings(ObjtagingDacc(store))  # a dict works!"
   ]
  },
  {
   "cell_type": "markdown",
   "id": "b70af820",
   "metadata": {},
   "source": [
    "## Concrete GroupsDacc (option 2): GroupSetsDacc"
   ]
  },
  {
   "cell_type": "code",
   "execution_count": null,
   "id": "797afd6d",
   "metadata": {},
   "outputs": [],
   "source": [
    "from typing import MutableMapping, Iterable, Any, NewType, Set\n",
    "from dataclasses import dataclass\n",
    "\n",
    "taging = NewType('taging', str)\n",
    "Obj = NewType('Obj', Any)\n",
    "tagingSets = NewType('tagingSets', MutableMapping[taging, Set[Obj]])\n",
    "\n",
    "@dataclass\n",
    "class tagingSetsDacc:\n",
    "    store: tagingSets\n",
    "        \n",
    "    def add_objs_to_taging(self, taging: taging, *objs: Iterable[Obj]) -> Any:\n",
    "        self.store[taging] |= set(objs)\n",
    "\n",
    "    def list_tagings(self) -> Iterable[taging]:\n",
    "        return set(self.store)\n",
    "            \n",
    "    def objs_for_taging(self, taging: taging) -> Iterable[Obj]:\n",
    "        return self.store[taging]\n",
    "    "
   ]
  },
  {
   "cell_type": "code",
   "execution_count": null,
   "id": "23924ca8",
   "metadata": {},
   "outputs": [],
   "source": [
    "from collections import defaultdict\n",
    "\n",
    "store = defaultdict(set)\n",
    "test_tagings(tagingSetsDacc(store))  # a defaultdict(set) works as a store!"
   ]
  },
  {
   "cell_type": "code",
   "execution_count": null,
   "id": "9eb17ca0",
   "metadata": {},
   "outputs": [],
   "source": []
  },
  {
   "cell_type": "markdown",
   "id": "2f5cc6a6",
   "metadata": {},
   "source": [
    "## Actual persisting stores using mongo"
   ]
  },
  {
   "cell_type": "code",
   "execution_count": null,
   "id": "99b3cdd3",
   "metadata": {},
   "outputs": [],
   "source": [
    "# from mongodol.base import MongoClient"
   ]
  },
  {
   "cell_type": "markdown",
   "id": "d93a9bd9",
   "metadata": {},
   "source": [
    "### ItemGroupPairs (for ItemGroupDacc)"
   ]
  },
  {
   "cell_type": "markdown",
   "id": "03ad536a",
   "metadata": {},
   "source": [
    "Options for implementing:\n",
    "\n",
    "```\n",
    "s[obj] = group\n",
    "```\n",
    "\n",
    "Option 1: But here we'd need to produce the ID on write\n",
    "\n",
    "```\n",
    "--> {'_id': ID, 'group': group', 'obj': obj}\n",
    "```\n",
    "\n",
    "Option 2: But we need to allow re-writes on `_id`\n",
    "\n",
    "```\n",
    "--> {'_id': obj, 'group': group}\n",
    "```\n"
   ]
  },
  {
   "cell_type": "code",
   "execution_count": null,
   "id": "625c06f2",
   "metadata": {},
   "outputs": [
    {
     "data": {
      "text/plain": [
       "[]"
      ]
     },
     "metadata": {},
     "output_type": "display_data"
    }
   ],
   "source": [
    "from operator import itemgetter\n",
    "\n",
    "from dol import wrap_kvs, Pipe\n",
    "from mongodol.stores import MongoStore\n",
    "\n",
    "\n",
    "# To be able to overwrite an existing (obj, taging) pair (by default MongoStore doesn't allow it)\n",
    "def delete_if_exists(self, k, v):\n",
    "    if k in self:\n",
    "        del self[k]\n",
    "    return v\n",
    "\n",
    "\n",
    "trans = Pipe(\n",
    "    wrap_kvs(\n",
    "        key_of_id=itemgetter('_id'), \n",
    "        id_of_key=lambda x: {'_id': x}, \n",
    "        obj_of_data=itemgetter('taging'),\n",
    "        data_of_obj=lambda x: {'taging': x}, \n",
    "        preset=delete_if_exists,\n",
    "    )\n",
    ")\n",
    "\n",
    "@trans\n",
    "class tagingStore(MongoStore):\n",
    "    \"\"\"To taging objs\"\"\"\n",
    "    def __init__(self,\n",
    "        db_name='scrap',\n",
    "        collection_name='taging_objs',\n",
    "        mongo_client_kwargs=None,\n",
    "    ):\n",
    "        super().__init__(\n",
    "            db_name=db_name,\n",
    "            collection_name=collection_name,\n",
    "            key_fields=['_id'],\n",
    "            data_fields=['taging'],\n",
    "            mongo_client_kwargs=mongo_client_kwargs\n",
    "        )\n",
    "    \n",
    "m = tagingStore()\n",
    "list(m)"
   ]
  },
  {
   "cell_type": "code",
   "execution_count": null,
   "id": "6d502cfb",
   "metadata": {},
   "outputs": [],
   "source": [
    "store = tagingStore()\n",
    "\n",
    "# empty the store\n",
    "for k in store: \n",
    "    del store[k]\n",
    "\n",
    "test_tagings(ObjtagingDacc(store))"
   ]
  },
  {
   "cell_type": "markdown",
   "id": "b2f8bb70",
   "metadata": {},
   "source": [
    "### GroupSets (for GroupSetsDacc)"
   ]
  },
  {
   "cell_type": "markdown",
   "id": "dbfcc4e6",
   "metadata": {},
   "source": [
    "Options for implementing:\n",
    "\n",
    "```\n",
    "s[group] |= objs\n",
    "```\n",
    "\n",
    "Option 1: But here we'd need to produce the ID on write\n",
    "\n",
    "```\n",
    "--> {'_id': group, 'objs': objs}\n",
    "```\n",
    "\n",
    "Option 2: But we need to allow re-writes on `_id`\n",
    "\n",
    "```\n",
    "--> {'_id': ID, 'group': group, 'obj': obj}  # (group, objs) -> (group, obj_1), (group, obj_2), ...\n",
    "```\n"
   ]
  },
  {
   "cell_type": "code",
   "execution_count": null,
   "id": "aeb55af6",
   "metadata": {},
   "outputs": [],
   "source": [
    "from operator import itemgetter\n",
    "\n",
    "from dol import wrap_kvs, Pipe\n",
    "from mongodol.stores import MongoStore\n",
    "\n",
    "\n",
    "# To be able to overwrite an existing (obj, taging) pair (by default MongoStore doesn't allow it)\n",
    "def delete_if_exists(self, k, v):\n",
    "    if k in self:\n",
    "        del self[k]\n",
    "    return v\n",
    "\n",
    "\n",
    "trans = Pipe(\n",
    "    wrap_kvs(\n",
    "        key_of_id=itemgetter('_id'), \n",
    "        id_of_key=lambda x: {'_id': x}, \n",
    "        obj_of_data=Pipe(itemgetter('objs'), set),\n",
    "        data_of_obj=lambda x: {'objs': list(x) if not isinstance(x, str) else [x]}, \n",
    "#         preset=delete_if_exists,\n",
    "    )\n",
    ")\n",
    "\n",
    "@trans\n",
    "class ObjsStore(MongoStore):\n",
    "    \"\"\"To taging objs\"\"\"\n",
    "    def __init__(self,\n",
    "        db_name='scrap',\n",
    "        collection_name='objs_taging',\n",
    "        mongo_client_kwargs=None,\n",
    "    ):\n",
    "        super().__init__(\n",
    "            db_name=db_name,\n",
    "            collection_name=collection_name,\n",
    "            key_fields=['_id'],\n",
    "            data_fields=['objs'],\n",
    "            mongo_client_kwargs=mongo_client_kwargs\n",
    "        )\n",
    "        \n",
    "    def __missing__(self, k):\n",
    "        return {'objs': []}\n",
    "    "
   ]
  },
  {
   "cell_type": "code",
   "execution_count": null,
   "id": "af94de66",
   "metadata": {},
   "outputs": [],
   "source": [
    "store = ObjsStore()\n",
    "\n",
    "# empty the store\n",
    "for k in store: \n",
    "    del store[k]\n",
    "\n",
    "test_tagings(tagingSetsDacc(store))"
   ]
  },
  {
   "cell_type": "markdown",
   "id": "c6cc3da9",
   "metadata": {},
   "source": [
    "## Implementation that uses \"metadata\" collection"
   ]
  },
  {
   "cell_type": "markdown",
   "id": "9d2184c6",
   "metadata": {},
   "source": [
    "Say you already have a mongo collection that contains meta-data on your items. \n",
    "That is, a collection that contains docs, one per item, that is intended to record information about this item. \n",
    "The groups the item belongs to can be just one additional one. "
   ]
  },
  {
   "cell_type": "code",
   "execution_count": null,
   "id": "7390c24d",
   "metadata": {},
   "outputs": [],
   "source": [
    "metadata_docs = [\n",
    "    {\n",
    "        \"_id\": \"123\",\n",
    "        \"ref\": \"absolute/reference/to/content\",\n",
    "        \"some\": \"other metadata\",  # just to show there can be other stuff\n",
    "        \"tagings\": {\n",
    "            # instead of a list, we'll use an object (dict), whose fields are the taging names\n",
    "            # This is because mongoDB allows us to index fields, therefore automatically \n",
    "            # get the bidirectional mapping from tagings to refs the taging \"contains\"\n",
    "            \"taging1\": True,\n",
    "            \"taging2\": True,\n",
    "        }\n",
    "    },\n",
    "    {\n",
    "        \"_id\": \"456\",\n",
    "        \"ref\": \"absolute/reference/to/some/other/content\",\n",
    "        \"tagings\": {\n",
    "            \"taging1\": True,\n",
    "            \"taging3\": True,\n",
    "        }\n",
    "    },\n",
    "    {\n",
    "        \"_id\": \"789\",\n",
    "        \"ref\": \"this/ref/is/necessary\",\n",
    "        \"optional\": \"metadata\",\n",
    "        # and not tagings here (but whenever someone/something adds a taging, it will be added here)\n",
    "    }\n",
    "]"
   ]
  },
  {
   "cell_type": "code",
   "execution_count": null,
   "id": "5ea8e9fd",
   "metadata": {},
   "outputs": [],
   "source": []
  },
  {
   "cell_type": "code",
   "execution_count": null,
   "id": "cf3bfe1b",
   "metadata": {},
   "outputs": [],
   "source": []
  },
  {
   "cell_type": "code",
   "execution_count": null,
   "id": "eeffbd9e",
   "metadata": {},
   "outputs": [],
   "source": []
  },
  {
   "cell_type": "code",
   "execution_count": null,
   "id": "9568fa00",
   "metadata": {},
   "outputs": [],
   "source": []
  }
 ],
 "metadata": {
  "kernelspec": {
   "display_name": "Python 3 (ipykernel)",
   "language": "python",
   "name": "python3"
  },
  "language_info": {
   "codemirror_mode": {
    "name": "ipython",
    "version": 3
   },
   "file_extension": ".py",
   "mimetype": "text/x-python",
   "name": "python",
   "nbconvert_exporter": "python",
   "pygments_lexer": "ipython3",
   "version": "3.10.8"
  },
  "toc": {
   "base_numbering": 1,
   "nav_menu": {},
   "number_sections": true,
   "sideBar": true,
   "skip_h1_title": false,
   "title_cell": "Table of Contents",
   "title_sidebar": "Contents",
   "toc_cell": false,
   "toc_position": {},
   "toc_section_display": true,
   "toc_window_display": false
  }
 },
 "nbformat": 4,
 "nbformat_minor": 5
}
