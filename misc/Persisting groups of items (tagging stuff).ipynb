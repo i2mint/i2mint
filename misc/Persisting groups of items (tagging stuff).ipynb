{
 "cells": [
  {
   "cell_type": "code",
   "execution_count": 1,
   "id": "881b2c1a",
   "metadata": {
    "ExecuteTime": {
     "end_time": "2023-04-20T15:22:19.235400Z",
     "start_time": "2023-04-20T15:22:19.188832Z"
    }
   },
   "outputs": [],
   "source": [
    "%load_ext autoreload\n",
    "%autoreload 2"
   ]
  },
  {
   "cell_type": "markdown",
   "id": "229668f7",
   "metadata": {},
   "source": [
    "This notebook is meant to demo a few dev techniques when tackling a new problem. \n",
    "\n",
    "It involves: TDD, typing, scaffolding, protocols, facades, repository pattern,... "
   ]
  },
  {
   "cell_type": "markdown",
   "id": "03f4d676",
   "metadata": {},
   "source": [
    "## The problem"
   ]
  },
  {
   "cell_type": "markdown",
   "id": "29ac12bf",
   "metadata": {},
   "source": [
    "The original problem: **As a user, I can tag (recording) sessions, view my tags, and retrieve the sessions for a given tag.**\n",
    "\n",
    "_(Note that tagging is equivalent to grouping, and is itself more general than heirarchical (i.e. tree structure) grouping.)_\n",
    "\n",
    "Questions:\n",
    "\n",
    "- Where do I store the tag/sessions info?\n",
    "- How (what data structure, what am I actually storing)?\n",
    "\n",
    "Answers:\n",
    "\n",
    "Shouldn't start with those questions. Those questions have to do with specifics. Of course, we'll need to make choices about those questions eventually, but we'll produce a brittle code-base if we don't first think of abstractions.\n",
    "\n",
    "Let's first think of a more general expression of what we're actually trying to do, and find a less specific vocabulary to describe it. We can (maybe even should) reintroduce the domain-specific vocabulary, as a layer on top of the more general mechanism, but we want to give ourselves a chance of knowing what the more abstract problem pattern is.\n",
    "\n",
    "The transformed, more general, so reusable, problem: **Same as above but replace \"sessions\" with \"objects\".**\n",
    "\n",
    "Then:\n",
    "\n",
    "* First look at what makes sense in the domain/interface -- Express this with types and tests\n",
    "\n",
    "* Then implement the interface, with a backend that corresponds to the current constraints"
   ]
  },
  {
   "cell_type": "markdown",
   "id": "8925e753",
   "metadata": {},
   "source": [
    "## A little digression on scaffolding"
   ]
  },
  {
   "cell_type": "code",
   "execution_count": 4,
   "id": "c50b2ee3",
   "metadata": {
    "ExecuteTime": {
     "end_time": "2023-04-20T15:28:35.161809Z",
     "start_time": "2023-04-20T15:28:35.151674Z"
    }
   },
   "outputs": [],
   "source": [
    "from typing import MutableMapping, Iterable, Any, NewType, Callable\n",
    "\n",
    "Group = NewType('Group', str)\n",
    "Item = NewType('Item', Any)\n"
   ]
  },
  {
   "cell_type": "markdown",
   "id": "2b31c82f",
   "metadata": {},
   "source": [
    "What functionality do we want around groups and their items?\n",
    "\n",
    "Let's express this through type annotations of some functions (which we'll encapsulate in a `Groups` class."
   ]
  },
  {
   "cell_type": "code",
   "execution_count": 5,
   "id": "448dd939",
   "metadata": {
    "ExecuteTime": {
     "end_time": "2023-04-20T15:28:36.495757Z",
     "start_time": "2023-04-20T15:28:36.489408Z"
    }
   },
   "outputs": [],
   "source": [
    "class GroupsDacc:\n",
    "    add_items_to_group: Callable[[Iterable[Item], Group], Any]\n",
    "    list_groups: Callable[[], Iterable[Group]]\n",
    "    items_for_group: Callable[[Group],Iterable[Item]]\n",
    "    "
   ]
  },
  {
   "cell_type": "markdown",
   "id": "dda46582",
   "metadata": {},
   "source": [
    "Note that this should now be sufficient to generate a scaffold of what we need. \n",
    "\n",
    "We'll do it in two ways: By (dynamically) creating a `typing.protocol` describing a concrete `Groups` object we could implement in the future, and by generating (the code string for) a concrete (but empty) such `Groups` class."
   ]
  },
  {
   "cell_type": "code",
   "execution_count": 6,
   "id": "db79dbf0",
   "metadata": {
    "ExecuteTime": {
     "end_time": "2023-04-20T15:28:37.755133Z",
     "start_time": "2023-04-20T15:28:37.475516Z"
    }
   },
   "outputs": [
    {
     "data": {
      "text/plain": [
       "<Sig (self, iterable: Iterable[__main__.Item], group: __main__.Group) -> Any>"
      ]
     },
     "execution_count": 6,
     "metadata": {},
     "output_type": "execute_result"
    }
   ],
   "source": [
    "import i2\n",
    "\n",
    "from meshed.scrap.annotations_to_meshes import (\n",
    "    func_types_to_scaffold, \n",
    "    func_types_to_protocol\n",
    ")\n",
    "\n",
    "# Groups.__annotations__ is a {name: func_annotation, ...} dict\n",
    "# We can make a protocol from that\n",
    "GroupsProtocol = func_types_to_protocol(GroupsDacc.__annotations__)\n",
    "\n",
    "# See that GroupsProtocol has methods for each item of the \n",
    "# Groups.__annotations__ dict. Each method bares a signature compatible with \n",
    "# the annotations.\n",
    "i2.Sig(GroupsProtocol.add_items_to_group)\n",
    "# <Sig (self, iterable: Iterable[__main__.Item], group: __main__.Group) -> Any>"
   ]
  },
  {
   "cell_type": "code",
   "execution_count": 7,
   "id": "fca3d3c8",
   "metadata": {
    "ExecuteTime": {
     "end_time": "2023-04-20T15:28:39.488081Z",
     "start_time": "2023-04-20T15:28:39.482538Z"
    }
   },
   "outputs": [
    {
     "name": "stdout",
     "output_type": "stream",
     "text": [
      "\n",
      "class GeneratedClass:\n",
      "    def add_items_to_group(self, iterable: Iterable, group: Group) -> Any:\n",
      "    \tpass\n",
      "\n",
      "    def list_groups(self) -> Iterable:\n",
      "    \tpass\n",
      "\n",
      "    def items_for_group(self, group: Group) -> Iterable:\n",
      "    \tpass\n",
      "\n"
     ]
    }
   ],
   "source": [
    "# We can also \n",
    "print(func_types_to_scaffold(GroupsDacc.__annotations__))"
   ]
  },
  {
   "cell_type": "markdown",
   "id": "daa5c57c",
   "metadata": {},
   "source": [
    "## TDD: Tests that describe the behavior we want"
   ]
  },
  {
   "cell_type": "code",
   "execution_count": 1,
   "id": "32434d2b",
   "metadata": {},
   "outputs": [],
   "source": [
    "from typing import MutableMapping, Iterable, Any, NewType, Callable, Protocol, Optional\n",
    "\n",
    "Tag = NewType('Tag', str)\n",
    "Obj = NewType('Object', Any)  # or just object?\n",
    "\n",
    "\n",
    "class TaggerProtocol(Protocol):\n",
    "    def tag_objs(self, tag: Tag, *objs: Iterable[Obj]) -> Any:\n",
    "        \"\"\"tag one or several objs \"\"\"\n",
    "\n",
    "    def tags(self, obj: Optional[Obj] = None) -> Iterable[Tag]:\n",
    "        \"\"\"List tags of obj, or all tags if obj is None\"\"\"\n",
    "\n",
    "    def objs(self, tag: Optional[Tag] = None) -> Iterable[Obj]:\n",
    "        \"\"\"List objs with tag, or all objs if tag is None\"\"\"\n",
    "    \n",
    "    \n",
    "def test_tagger(tagger: TaggerProtocol):\n",
    "    # the following assertion isn't part of the behavior we want -- just a condition we'll \n",
    "    # need to be able to conduct our test: Namely, that our collection of groups/items is empty.\n",
    "\n",
    "    assert list(tagger.tags()) == []  # make sure test is well setup (tagger is empty)\n",
    "\n",
    "    tagger.tag_objs('tag_a', 'obj_1', 'obj_2')\n",
    "    assert sorted(tagger.tags()) == ['tag_a']  # unfiltered tags() method\n",
    "\n",
    "    tagger.tag_objs('tag_b', 'obj_3')\n",
    "    assert sorted(tagger.tags()) == ['tag_a', 'tag_b']  \n",
    "    assert sorted(tagger.objs('tag_a')) == ['obj_1', 'obj_2']  # filtered objs() method\n",
    "\n",
    "    tagger.tag_objs('tag_c', 'obj_3')\n",
    "    assert sorted(tagger.tags()) == ['tag_a', 'tag_b', 'tag_c']\n",
    "    assert sorted(tagger.tags('obj_3')) == ['tag_b', 'tag_c']  # filtered tags() method\n",
    "\n",
    "    # unfiltered objs() method\n",
    "    assert sorted(tagger.objs()) == ['obj_1', 'obj_2', 'obj_3']\n"
   ]
  },
  {
   "cell_type": "markdown",
   "id": "448607c4",
   "metadata": {},
   "source": [
    "Now we'll implement two concrete `TagsDacc`, using a store, a `MutableMapping`, as a back-end so as to keep the persistance concern still separate. \n",
    "\n",
    "The idea is: As long as we provide our concrete persister with the right `MutableMapping` facade (with a minimum of specifics/semantics such as what the keys and values are meant to be), we should have a working object.\n",
    "\n",
    "The two `TagsDacc` options will differ on the particulars of the store. \n",
    "- In the first, we'll assume the store has objs as keys and tags as values. \n",
    "- In the second we'll assume the tags are the keys, and values are sets of objs of that group."
   ]
  },
  {
   "cell_type": "markdown",
   "id": "dce4020d",
   "metadata": {},
   "source": [
    "## Concrete Tagger (option 1): ObjTagDacc"
   ]
  },
  {
   "cell_type": "code",
   "execution_count": 2,
   "id": "8f4b640f",
   "metadata": {},
   "outputs": [],
   "source": [
    "from typing import MutableMapping, Iterable, Any, NewType\n",
    "from dataclasses import dataclass\n",
    "\n",
    "Tag = NewType('Tag', str)\n",
    "Obj = NewType('Object', Any)  # or just object?\n",
    "ObjTagPairs = NewType('ObjTagPairs', MutableMapping[Obj, Tag])\n",
    "\n",
    "def flatten_set(set_of_sets):\n",
    "    return {obj for subset in set_of_sets for obj in subset}\n",
    "\n",
    "@dataclass\n",
    "class ObjTagDacc:\n",
    "    store: ObjTagPairs\n",
    "        \n",
    "    def tag_objs(self, tag: Tag, *objs: Iterable[Obj]) -> Any:\n",
    "        for obj in objs:\n",
    "            if obj in store:\n",
    "                # self.store[obj].add(tag)  # TODO: Make this work with value wrapper\n",
    "                tags = self.store[obj]\n",
    "                tags.add(tag)\n",
    "                self.store[obj] = tags\n",
    "            else:\n",
    "                self.store[obj] = {tag}\n",
    "\n",
    "    def tags(self, obj: Optional[Obj] = None) -> Iterable[Tag]:\n",
    "        if obj is None:\n",
    "            return flatten_set(self.store.values())\n",
    "        else:\n",
    "            return self.store[obj]\n",
    "\n",
    "    def objs(self, tag: Optional[Tag] = None) -> Iterable[Obj]:\n",
    "        # TODO: Express this filtering in such a way that will allow us to take advantage of DB specifics\n",
    "        #  (e.g., passing on the filtering to the DB instead of filtering in python itself)\n",
    "        if tag is None:\n",
    "            return self.store.keys()\n",
    "        else:\n",
    "            return (obj for obj, tags in self.store.items() if tag in tags)\n",
    "\n",
    "\n",
    "# Test it:\n",
    "store = dict()  # make a store for ObjTagDacc to use\n",
    "tagger = ObjTagDacc(store)  # make a tagger (that will use that store to \"persist\")\n",
    "test_tagger(tagger)  # test the tagger"
   ]
  },
  {
   "cell_type": "markdown",
   "id": "c499ffcc",
   "metadata": {},
   "source": [
    "## Concrete Tagger (option 2): TagSetsDacc"
   ]
  },
  {
   "cell_type": "code",
   "execution_count": 3,
   "id": "592012b3",
   "metadata": {},
   "outputs": [],
   "source": [
    "from typing import MutableMapping, Iterable, Any, NewType, Set\n",
    "from dataclasses import dataclass\n",
    "\n",
    "Group = NewType('Group', str)\n",
    "Item = NewType('Item', Any)\n",
    "GroupSets = NewType('GroupSets', MutableMapping[Group, Set[Item]])\n",
    "\n",
    "Tag = NewType('Tag', str)\n",
    "Obj = NewType('Object', Any)  # or just object?\n",
    "TagSets = NewType('ObjTagPairs', MutableMapping[Tag, Set[Obj]])\n",
    "\n",
    "# TODO: Note that the tags and objs methods are essentially those of ObjTagDacc, swapped\n",
    "#  Let's use that fact!\n",
    "@dataclass\n",
    "class TagSetsDacc:\n",
    "    store: TagSets\n",
    "        \n",
    "    def tag_objs(self, tag: Tag, *objs: Iterable[Obj]) -> Any:\n",
    "        if tag not in self.store:\n",
    "            self.store[tag] = set()\n",
    "        self.store[tag] |= set(objs)\n",
    "\n",
    "    def tags(self, obj: Optional[Obj] = None) -> Iterable[Tag]:\n",
    "        if obj is None:\n",
    "            return set(self.store)\n",
    "        else:\n",
    "            return set(tag for tag, objs in self.store.items() if obj in objs)\n",
    "            \n",
    "    def objs(self, tag: Optional[Tag] = None) -> Iterable[Obj]:\n",
    "        if tag is None:\n",
    "            return flatten_set(self.store.values())\n",
    "        else:\n",
    "            return self.store[tag]\n",
    "    \n",
    "# Test it:\n",
    "store = dict()  # make a store for ObjTagDacc to use\n",
    "tagger = TagSetsDacc(store)  # make a tagger (that will use that store to \"persist\")\n",
    "test_tagger(tagger)  # test the tagger"
   ]
  },
  {
   "cell_type": "code",
   "execution_count": null,
   "id": "d774183f",
   "metadata": {},
   "outputs": [],
   "source": []
  },
  {
   "cell_type": "markdown",
   "id": "86e23a7b",
   "metadata": {},
   "source": [
    "## Actual persisting stores using mongo"
   ]
  },
  {
   "cell_type": "code",
   "execution_count": 4,
   "id": "dccfa801",
   "metadata": {
    "ExecuteTime": {
     "end_time": "2023-04-20T15:31:06.184059Z",
     "start_time": "2023-04-20T15:31:06.177757Z"
    }
   },
   "outputs": [],
   "source": [
    "# from mongodol.base import MongoClient"
   ]
  },
  {
   "cell_type": "markdown",
   "id": "15e30fc6",
   "metadata": {},
   "source": [
    "### ObjTagPairs (for ObjTagDacc)"
   ]
  },
  {
   "cell_type": "markdown",
   "id": "47f92e87",
   "metadata": {
    "ExecuteTime": {
     "end_time": "2023-04-19T16:13:01.269936Z",
     "start_time": "2023-04-19T16:13:01.245529Z"
    }
   },
   "source": [
    "Options for implementing:\n",
    "\n",
    "```\n",
    "s[obj] = tag\n",
    "```\n",
    "\n",
    "Option 1: But here we'd need to produce the ID on write\n",
    "\n",
    "```\n",
    "--> {'_id': ID, 'tags': tags, 'obj': obj}\n",
    "```\n",
    "\n",
    "Option 2: But we need to allow re-writes on `_id`\n",
    "\n",
    "```\n",
    "--> {'_id': obj, 'tags': tags}\n",
    "```\n"
   ]
  },
  {
   "cell_type": "code",
   "execution_count": 5,
   "id": "50eaa0ca",
   "metadata": {
    "ExecuteTime": {
     "end_time": "2023-04-20T15:32:38.171203Z",
     "start_time": "2023-04-20T15:32:38.137796Z"
    }
   },
   "outputs": [],
   "source": [
    "# Option 2\n",
    "\n",
    "from operator import itemgetter\n",
    "\n",
    "from dol import wrap_kvs, Pipe\n",
    "from mongodol.stores import MongoStore\n",
    "\n",
    "\n",
    "# To be able to overwrite an existing (item, group) pair (by default MongoStore doesn't allow it)\n",
    "def delete_if_exists(self, k, v):\n",
    "    if k in self:\n",
    "        del self[k]\n",
    "    return v\n",
    "\n",
    "\n",
    "trans = Pipe(\n",
    "    wrap_kvs(\n",
    "        key_of_id=itemgetter('_id'), \n",
    "        id_of_key=lambda x: {'_id': x}, \n",
    "        obj_of_data=lambda x: set(x['tags']),\n",
    "        data_of_obj=lambda x: {'tags': list(x)}, \n",
    "        preset=delete_if_exists,\n",
    "    )\n",
    ")\n",
    "\n",
    "@trans\n",
    "class TagStore(MongoStore):\n",
    "    \"\"\"To group items\"\"\"\n",
    "    def __init__(self,\n",
    "        db_name='scrap',\n",
    "        collection_name='tagged_objects',\n",
    "        mongo_client_kwargs=None,\n",
    "    ):\n",
    "        super().__init__(\n",
    "            db_name=db_name,\n",
    "            collection_name=collection_name,\n",
    "            key_fields=['_id'],\n",
    "            data_fields=['tags'],\n",
    "            mongo_client_kwargs=mongo_client_kwargs\n",
    "        )\n",
    "    \n",
    "store = TagStore()\n",
    "\n",
    "# empty the store\n",
    "for k in store: \n",
    "    del store[k]\n",
    "\n",
    "test_tagger(TagSetsDacc(store))\n"
   ]
  },
  {
   "cell_type": "code",
   "execution_count": 6,
   "id": "e6e6eae6",
   "metadata": {
    "ExecuteTime": {
     "end_time": "2023-04-20T15:32:38.713083Z",
     "start_time": "2023-04-20T15:32:38.565314Z"
    }
   },
   "outputs": [
    {
     "data": {
      "text/plain": [
       "[({'_id': 'tag_a'}, {'tags': ['obj_2', 'obj_1']}),\n",
       " ({'_id': 'tag_b'}, {'tags': ['obj_3']}),\n",
       " ({'_id': 'tag_c'}, {'tags': ['obj_3']})]"
      ]
     },
     "execution_count": 6,
     "metadata": {},
     "output_type": "execute_result"
    }
   ],
   "source": [
    "underlying_store = store.store\n",
    "list(zip(underlying_store, underlying_store.values())) "
   ]
  },
  {
   "cell_type": "code",
   "execution_count": 7,
   "id": "7fed7ad4",
   "metadata": {},
   "outputs": [
    {
     "data": {
      "text/plain": [
       "[({'_id': 'tag_a'}, {'tags': ['obj_2', 'obj_1']}),\n",
       " ({'_id': 'tag_b'}, {'tags': ['obj_3']}),\n",
       " ({'_id': 'tag_c'}, {'tags': ['obj_3']})]"
      ]
     },
     "execution_count": 7,
     "metadata": {},
     "output_type": "execute_result"
    }
   ],
   "source": [
    "base_store = store.store.store\n",
    "list(zip(base_store, base_store.values())) "
   ]
  },
  {
   "cell_type": "markdown",
   "id": "134a8cae",
   "metadata": {},
   "source": [
    "... to be continued"
   ]
  },
  {
   "cell_type": "markdown",
   "id": "74670b4c",
   "metadata": {},
   "source": [
    "## Implementation that uses \"metadata\" collection"
   ]
  },
  {
   "cell_type": "markdown",
   "id": "7cb4e7eb",
   "metadata": {},
   "source": [
    "Say you already have a mongo collection that contains meta-data on your items. \n",
    "That is, a collection that contains docs, one per item, that is intended to record information about this item. \n",
    "The groups the item belongs to can be just one additional one. "
   ]
  },
  {
   "cell_type": "code",
   "execution_count": null,
   "id": "7e86cbf5",
   "metadata": {},
   "outputs": [],
   "source": [
    "test_metadata_docs = [\n",
    "    {\n",
    "        \"_id\": \"123\",\n",
    "        \"ref\": \"absolute/reference/to/content\",\n",
    "        \"some\": \"other metadata\",  # just to show there can be other stuff\n",
    "        \"tags\": {\n",
    "            # instead of a list, we'll use an object (dict), whose fields are the group names\n",
    "            # This is because mongoDB allows us to index fields, therefore automatically \n",
    "            # get the bidirectional mapping from groups to refs the group \"contains\"\n",
    "            \"tag1\": True,\n",
    "            \"tag2\": True,\n",
    "        }\n",
    "    },\n",
    "    {\n",
    "        \"_id\": \"456\",\n",
    "        \"ref\": \"absolute/reference/to/some/other/content\",\n",
    "        \"tags\": {\n",
    "            \"tag1\": True,\n",
    "            \"tag2\": True,\n",
    "        }\n",
    "    },\n",
    "    {\n",
    "        \"_id\": \"789\",\n",
    "        \"ref\": \"this/ref/is/necessary\",\n",
    "        \"optional\": \"metadata\",\n",
    "        # and no tags here (but whenever someone/something adds a tag, it will be added here)\n",
    "    }\n",
    "]\n",
    "\n",
    "# Make a collection with only those docs in it\n",
    "\n",
    "from mongodol import MongoCollectionPersister\n",
    "\n",
    "def prepare_test_collection():\n",
    "    collection_uri = 'scrap/tagged_objects'  # not given to input ON PURPOSE!!\n",
    "    s = MongoCollectionPersister(collection_uri, iter_projection=None)\n",
    "\n",
    "    for doc in s:\n",
    "        del s[doc]\n",
    "\n",
    "    assert list(s) == []\n",
    "\n",
    "    for doc in test_metadata_docs:\n",
    "        s[doc] = doc\n",
    "\n",
    "    assert list(s) == test_metadata_docs\n",
    "\n",
    "    return s\n",
    "\n",
    "s = prepare_test_collection()\n",
    "list(s)\n"
   ]
  },
  {
   "cell_type": "code",
   "execution_count": 58,
   "id": "560b532e",
   "metadata": {},
   "outputs": [
    {
     "data": {
      "text/plain": [
       "['123', '456', '789']"
      ]
     },
     "execution_count": 58,
     "metadata": {},
     "output_type": "execute_result"
    }
   ],
   "source": [
    "# Note: NOT WORKING YET!!\n",
    "\n",
    "from operator import itemgetter\n",
    "\n",
    "from dol import wrap_kvs, Pipe\n",
    "# from mongodol.stores import MongoStore\n",
    "from mongodol.base import MongoCollectionPersister\n",
    "\n",
    "\n",
    "# # To be able to overwrite an existing (item, group) pair (by default MongoStore doesn't allow it)\n",
    "# def delete_if_exists(self, k, v):\n",
    "#     if k in self:\n",
    "#         del self[k]        \n",
    "#     return v\n",
    "\n",
    "class UnicityError(ValueError):\n",
    "    \"\"\"When something should have been unique and wasn't\"\"\"\n",
    "\n",
    "def there_is_more_in_the_cursor(cursor):\n",
    "    return next(cursor, None) is not None\n",
    "\n",
    "def first_item_of_cursor(cursor):\n",
    "    v = next(cursor, None)\n",
    "    if v is None:\n",
    "        raise KeyError(\"No such key\")  # TODO: Get the key from cursor\n",
    "    elif there_is_more_in_the_cursor(cursor):\n",
    "        raise UnicityError(f\"There should be only one match, but was several\")\n",
    "    else:\n",
    "        return v\n",
    "    \n",
    "def obj_of_data(cursor):\n",
    "    doc = first_item_of_cursor(cursor)\n",
    "    return set(doc.get('tags', set()))\n",
    "\n",
    "def data_of_obj(tags):\n",
    "    print(f\"data_of_obj({tags=})\")\n",
    "    return {\"tags\": {tag: True for tag in tags}}\n",
    "\n",
    "trans = Pipe(\n",
    "    wrap_kvs(\n",
    "        key_of_id=itemgetter('_id'), \n",
    "        id_of_key=lambda x: {'_id': x}, \n",
    "        obj_of_data=first_item_of_cursor,\n",
    "        data_of_obj=data_of_obj,\n",
    "        # preset=delete_if_exists,\n",
    "    )\n",
    ")\n",
    "\n",
    "@trans\n",
    "class TagStore(MongoCollectionPersister):\n",
    "    \"\"\"To group items\"\"\"\n",
    "    def __init__(self,\n",
    "        mgc='scrap/tagged_objects',\n",
    "        iter_projection=('_id',), \n",
    "        # iter_projection=None, #tuple({'ref': True, '_id': False}.items()),\n",
    "        **mgc_find_kwargs,\n",
    "    ):\n",
    "        # if iter_projection is not None:\n",
    "        #     iter_projection = dict(iter_projection)\n",
    "        super().__init__(\n",
    "            mgc=mgc,\n",
    "            iter_projection=iter_projection,\n",
    "            **mgc_find_kwargs\n",
    "        )\n",
    "    \n",
    "\n",
    "# for k in m:\n",
    "#     del m[k]\n",
    "\n",
    "prepare_test_collection()\n",
    "\n",
    "m = TagStore()\n",
    "list(m)\n",
    "\n",
    "list(m)\n",
    "# m['123'] = {'tags': ['tag1', 'tag2']}"
   ]
  },
  {
   "cell_type": "code",
   "execution_count": 60,
   "id": "9c782ff4",
   "metadata": {},
   "outputs": [
    {
     "name": "stdout",
     "output_type": "stream",
     "text": [
      "m['123']={'_id': '123', 'ref': 'absolute/reference/to/content', 'some': 'other metadata', 'tags': {'tag1': True, 'tag2': True}}\n"
     ]
    },
    {
     "data": {
      "text/plain": [
       "{'_id': '123',\n",
       " 'ref': 'absolute/reference/to/content',\n",
       " 'some': 'other metadata',\n",
       " 'tags': {'tag1': True, 'tag2': True}}"
      ]
     },
     "execution_count": 60,
     "metadata": {},
     "output_type": "execute_result"
    }
   ],
   "source": [
    "t = m['123']\n",
    "print(f\"{m['123']=}\")\n",
    "# m['123'] = ('apple', 'sauce')\n",
    "m['123']"
   ]
  },
  {
   "cell_type": "code",
   "execution_count": 42,
   "id": "0211398e",
   "metadata": {},
   "outputs": [
    {
     "data": {
      "text/plain": [
       "[{'_id': '123',\n",
       "  'ref': 'absolute/reference/to/content',\n",
       "  'some': 'other metadata',\n",
       "  'tags': {'tag1': True, 'tag2': True}}]"
      ]
     },
     "execution_count": 42,
     "metadata": {},
     "output_type": "execute_result"
    }
   ],
   "source": [
    "list(m[{'_id': '123'}])"
   ]
  },
  {
   "cell_type": "code",
   "execution_count": 36,
   "id": "d8eb3dc9",
   "metadata": {},
   "outputs": [
    {
     "data": {
      "text/plain": [
       "{'_id': '123',\n",
       " 'ref': 'absolute/reference/to/content',\n",
       " 'some': 'other metadata',\n",
       " 'tags': {'tag1': True, 'tag2': True}}"
      ]
     },
     "execution_count": 36,
     "metadata": {},
     "output_type": "execute_result"
    }
   ],
   "source": [
    "m['123']"
   ]
  },
  {
   "cell_type": "markdown",
   "id": "e86836e2",
   "metadata": {},
   "source": [
    "We'd like to have \"ref\" be the key, not `\"_id\"` (but couldn't get unicity enforcement to work)..."
   ]
  },
  {
   "cell_type": "code",
   "execution_count": 8,
   "id": "2ec52e71",
   "metadata": {},
   "outputs": [
    {
     "data": {
      "text/plain": [
       "[{'_id': '123',\n",
       "  'ref': 'absolute/reference/to/content',\n",
       "  'some': 'other metadata',\n",
       "  'tags': {'tag1': True, 'tag2': True}},\n",
       " {'_id': '456',\n",
       "  'ref': 'absolute/reference/to/some/other/content',\n",
       "  'tags': {'tag1': True, 'tag2': True}},\n",
       " {'_id': '789', 'ref': 'this/ref/is/necessary', 'optional': 'metadata'}]"
      ]
     },
     "execution_count": 8,
     "metadata": {},
     "output_type": "execute_result"
    }
   ],
   "source": [
    "test_metadata_docs = [\n",
    "    {\n",
    "        \"_id\": \"123\",\n",
    "        \"ref\": \"absolute/reference/to/content\",\n",
    "        \"some\": \"other metadata\",  # just to show there can be other stuff\n",
    "        \"tags\": {\n",
    "            # instead of a list, we'll use an object (dict), whose fields are the group names\n",
    "            # This is because mongoDB allows us to index fields, therefore automatically \n",
    "            # get the bidirectional mapping from groups to refs the group \"contains\"\n",
    "            \"tag1\": True,\n",
    "            \"tag2\": True,\n",
    "        }\n",
    "    },\n",
    "    {\n",
    "        \"_id\": \"456\",\n",
    "        \"ref\": \"absolute/reference/to/some/other/content\",\n",
    "        \"tags\": {\n",
    "            \"tag1\": True,\n",
    "            \"tag2\": True,\n",
    "        }\n",
    "    },\n",
    "    {\n",
    "        \"_id\": \"789\",\n",
    "        \"ref\": \"this/ref/is/necessary\",\n",
    "        \"optional\": \"metadata\",\n",
    "        # and no tags here (but whenever someone/something adds a tag, it will be added here)\n",
    "    }\n",
    "]\n",
    "\n",
    "# Make a collection with only those docs in it\n",
    "\n",
    "from mongodol import MongoCollectionPersister\n",
    "\n",
    "def prepare_test_collection():\n",
    "    collection_uri = 'scrap/tagged_objects'  # not given to input ON PURPOSE!!\n",
    "    s = MongoCollectionPersister(collection_uri, iter_projection=None)\n",
    "\n",
    "    for doc in s:\n",
    "        del s[doc]\n",
    "\n",
    "    assert list(s) == []\n",
    "\n",
    "    for doc in test_metadata_docs:\n",
    "        s[doc] = doc\n",
    "\n",
    "    assert list(s) == test_metadata_docs\n",
    "\n",
    "    return s\n",
    "\n",
    "s = prepare_test_collection()\n",
    "list(s)\n"
   ]
  },
  {
   "cell_type": "code",
   "execution_count": 29,
   "id": "2cb0f5e9",
   "metadata": {},
   "outputs": [
    {
     "data": {
      "text/plain": [
       "[{'_id': '123'}, {'_id': '456'}, {'_id': '789'}]"
      ]
     },
     "execution_count": 29,
     "metadata": {},
     "output_type": "execute_result"
    }
   ],
   "source": []
  },
  {
   "cell_type": "code",
   "execution_count": 30,
   "id": "d0283085",
   "metadata": {},
   "outputs": [
    {
     "data": {
      "text/plain": [
       "[{'_id': '123',\n",
       "  'ref': 'absolute/reference/to/content',\n",
       "  'some': 'other metadata',\n",
       "  'tags': {'tag1': True, 'tag2': True}},\n",
       " {'_id': '456',\n",
       "  'ref': 'absolute/reference/to/some/other/content',\n",
       "  'tags': {'tag1': True, 'tag2': True}},\n",
       " {'_id': '789', 'ref': 'this/ref/is/necessary', 'optional': 'metadata'},\n",
       " {'_id': ObjectId('64e7b9fd37cf048a5852e786'),\n",
       "  'ref': 'absolute/reference/to/content',\n",
       "  'apple': 'sauce'}]"
      ]
     },
     "execution_count": 30,
     "metadata": {},
     "output_type": "execute_result"
    }
   ],
   "source": [
    "# m.mgc.insert_one({'ref': 'absolute/reference/to/content', 'apple': 'sauce'})\n",
    "# list(m.mgc.find())"
   ]
  },
  {
   "cell_type": "code",
   "execution_count": 27,
   "id": "493881ec",
   "metadata": {},
   "outputs": [
    {
     "data": {
      "text/plain": [
       "['absolute/reference/to/content',\n",
       " 'absolute/reference/to/some/other/content',\n",
       " 'this/ref/is/necessary']"
      ]
     },
     "execution_count": 27,
     "metadata": {},
     "output_type": "execute_result"
    }
   ],
   "source": [
    "# Note: NOT WORKING YET!!\n",
    "\n",
    "from operator import itemgetter\n",
    "\n",
    "from dol import wrap_kvs, Pipe\n",
    "from mongodol.stores import MongoStore\n",
    "\n",
    "\n",
    "# # To be able to overwrite an existing (item, group) pair (by default MongoStore doesn't allow it)\n",
    "# def delete_if_exists(self, k, v):\n",
    "#     if k in self:\n",
    "#         del self[k]        \n",
    "#     return v\n",
    "\n",
    "def data_of_obj(tags):\n",
    "    return \n",
    "\n",
    "\n",
    "def data_of_obj(tags):\n",
    "    print(f\"data_of_obj({tags=})\")\n",
    "    return {tag: True for tag in tags}\n",
    "\n",
    "trans = Pipe(\n",
    "    wrap_kvs(\n",
    "        key_of_id=itemgetter('ref'), \n",
    "        id_of_key=lambda x: {'ref': x}, \n",
    "        obj_of_data=lambda x: set(x.get('tags', set())),\n",
    "        data_of_obj=data_of_obj,\n",
    "        # preset=delete_if_exists,\n",
    "    )\n",
    ")\n",
    "\n",
    "@trans\n",
    "class TagStore(MongoStore):\n",
    "    \"\"\"To group items\"\"\"\n",
    "    def __init__(self,\n",
    "        db_name='scrap',\n",
    "        collection_name='tagged_objects',\n",
    "        mongo_client_kwargs=None,\n",
    "    ):\n",
    "        super().__init__(\n",
    "            db_name=db_name,\n",
    "            collection_name=collection_name,\n",
    "            key_fields=['ref'],\n",
    "            # data_fields=['tags'],\n",
    "            mongo_client_kwargs=mongo_client_kwargs\n",
    "        )\n",
    "    \n",
    "\n",
    "\n",
    "# for k in m:\n",
    "#     del m[k]\n",
    "\n",
    "prepare_test_collection()\n",
    "\n",
    "m = TagStore()\n",
    "list(m)\n",
    "\n",
    "list(m)\n",
    "# m['123'] = {'tags': ['tag1', 'tag2']}"
   ]
  },
  {
   "cell_type": "code",
   "execution_count": 28,
   "id": "6e94f004",
   "metadata": {},
   "outputs": [
    {
     "name": "stdout",
     "output_type": "stream",
     "text": [
      "data_of_obj(tags={'apple', 'sauce'})\n"
     ]
    },
    {
     "data": {
      "text/plain": [
       "{'tag1', 'tag2'}"
      ]
     },
     "execution_count": 28,
     "metadata": {},
     "output_type": "execute_result"
    }
   ],
   "source": [
    "k = 'absolute/reference/to/content'\n",
    "m[k] = {'apple', 'sauce'}\n",
    "m[k]"
   ]
  },
  {
   "cell_type": "code",
   "execution_count": 26,
   "id": "49d1a93d",
   "metadata": {},
   "outputs": [
    {
     "ename": "AttributeError",
     "evalue": "'TagStore' object has no attribute 'store'",
     "output_type": "error",
     "traceback": [
      "\u001b[0;31m---------------------------------------------------------------------------\u001b[0m",
      "\u001b[0;31mAttributeError\u001b[0m                            Traceback (most recent call last)",
      "Cell \u001b[0;32mIn[26], line 1\u001b[0m\n\u001b[0;32m----> 1\u001b[0m mm \u001b[39m=\u001b[39m m\u001b[39m.\u001b[39;49mstore\n\u001b[1;32m      2\u001b[0m \u001b[39mlist\u001b[39m(mm)\n",
      "\u001b[0;31mAttributeError\u001b[0m: 'TagStore' object has no attribute 'store'"
     ]
    }
   ],
   "source": [
    "mm = m.store\n",
    "list(mm)"
   ]
  },
  {
   "cell_type": "code",
   "execution_count": 127,
   "id": "4b99c330",
   "metadata": {},
   "outputs": [
    {
     "name": "stdout",
     "output_type": "stream",
     "text": [
      "> \u001b[0;32m/Users/thorwhalen/Dropbox/py/proj/i/mongodol/mongodol/scrap/old01.py\u001b[0m(363)\u001b[0;36m__setitem__\u001b[0;34m()\u001b[0m\n",
      "\u001b[0;32m    361 \u001b[0;31m\u001b[0;34m\u001b[0m\u001b[0m\n",
      "\u001b[0m\u001b[0;32m    362 \u001b[0;31m    \u001b[0;32mdef\u001b[0m \u001b[0m__setitem__\u001b[0m\u001b[0;34m(\u001b[0m\u001b[0mself\u001b[0m\u001b[0;34m,\u001b[0m \u001b[0mk\u001b[0m\u001b[0;34m,\u001b[0m \u001b[0mv\u001b[0m\u001b[0;34m)\u001b[0m\u001b[0;34m:\u001b[0m\u001b[0;34m\u001b[0m\u001b[0;34m\u001b[0m\u001b[0m\n",
      "\u001b[0m\u001b[0;32m--> 363 \u001b[0;31m        \u001b[0;32mreturn\u001b[0m \u001b[0mself\u001b[0m\u001b[0;34m.\u001b[0m\u001b[0m_mgc\u001b[0m\u001b[0;34m.\u001b[0m\u001b[0minsert_one\u001b[0m\u001b[0;34m(\u001b[0m\u001b[0mdict\u001b[0m\u001b[0;34m(\u001b[0m\u001b[0mk\u001b[0m\u001b[0;34m,\u001b[0m \u001b[0;34m**\u001b[0m\u001b[0mv\u001b[0m\u001b[0;34m)\u001b[0m\u001b[0;34m)\u001b[0m\u001b[0;34m\u001b[0m\u001b[0;34m\u001b[0m\u001b[0m\n",
      "\u001b[0m\u001b[0;32m    364 \u001b[0;31m\u001b[0;34m\u001b[0m\u001b[0m\n",
      "\u001b[0m\u001b[0;32m    365 \u001b[0;31m    \u001b[0;32mdef\u001b[0m \u001b[0m__delitem__\u001b[0m\u001b[0;34m(\u001b[0m\u001b[0mself\u001b[0m\u001b[0;34m,\u001b[0m \u001b[0mk\u001b[0m\u001b[0;34m)\u001b[0m\u001b[0;34m:\u001b[0m\u001b[0;34m\u001b[0m\u001b[0;34m\u001b[0m\u001b[0m\n",
      "\u001b[0m\n",
      "self = <mongodol.scrap.old01.OldMongoPersister object at 0x1223a9090>\n",
      "k = {'ref': 'absolute/reference/to/content'}\n",
      "v = ({'tag2': True, 'tag3': True},)\n",
      "> \u001b[0;32m/Users/thorwhalen/Dropbox/py/proj/i/dol/dol/base.py\u001b[0m(676)\u001b[0;36m__setitem__\u001b[0;34m()\u001b[0m\n",
      "\u001b[0;32m    674 \u001b[0;31m    \u001b[0;31m# Write ####################################################################\u001b[0m\u001b[0;34m\u001b[0m\u001b[0;34m\u001b[0m\u001b[0m\n",
      "\u001b[0m\u001b[0;32m    675 \u001b[0;31m    \u001b[0;32mdef\u001b[0m \u001b[0m__setitem__\u001b[0m\u001b[0;34m(\u001b[0m\u001b[0mself\u001b[0m\u001b[0;34m,\u001b[0m \u001b[0mk\u001b[0m\u001b[0;34m:\u001b[0m \u001b[0mKey\u001b[0m\u001b[0;34m,\u001b[0m \u001b[0mv\u001b[0m\u001b[0;34m:\u001b[0m \u001b[0mVal\u001b[0m\u001b[0;34m)\u001b[0m\u001b[0;34m:\u001b[0m\u001b[0;34m\u001b[0m\u001b[0;34m\u001b[0m\u001b[0m\n",
      "\u001b[0m\u001b[0;32m--> 676 \u001b[0;31m        \u001b[0;32mreturn\u001b[0m \u001b[0mself\u001b[0m\u001b[0;34m.\u001b[0m\u001b[0mstore\u001b[0m\u001b[0;34m.\u001b[0m\u001b[0m__setitem__\u001b[0m\u001b[0;34m(\u001b[0m\u001b[0mself\u001b[0m\u001b[0;34m.\u001b[0m\u001b[0m_id_of_key\u001b[0m\u001b[0;34m(\u001b[0m\u001b[0mk\u001b[0m\u001b[0;34m)\u001b[0m\u001b[0;34m,\u001b[0m \u001b[0mself\u001b[0m\u001b[0;34m.\u001b[0m\u001b[0m_data_of_obj\u001b[0m\u001b[0;34m(\u001b[0m\u001b[0mv\u001b[0m\u001b[0;34m)\u001b[0m\u001b[0;34m)\u001b[0m\u001b[0;34m\u001b[0m\u001b[0;34m\u001b[0m\u001b[0m\n",
      "\u001b[0m\u001b[0;32m    677 \u001b[0;31m\u001b[0;34m\u001b[0m\u001b[0m\n",
      "\u001b[0m\u001b[0;32m    678 \u001b[0;31m    \u001b[0;31m# def update(self, *args, **kwargs):\u001b[0m\u001b[0;34m\u001b[0m\u001b[0;34m\u001b[0m\u001b[0m\n",
      "\u001b[0m\n",
      "self = <mongodol.scrap.old01.OldMongoPersister object at 0x1223a9090>\n",
      "k = {'ref': 'absolute/reference/to/content'}\n",
      "v = ({'tag2': True, 'tag3': True},)\n",
      "> \u001b[0;32m/Users/thorwhalen/Dropbox/py/proj/i/dol/dol/base.py\u001b[0m(676)\u001b[0;36m__setitem__\u001b[0;34m()\u001b[0m\n",
      "\u001b[0;32m    674 \u001b[0;31m    \u001b[0;31m# Write ####################################################################\u001b[0m\u001b[0;34m\u001b[0m\u001b[0;34m\u001b[0m\u001b[0m\n",
      "\u001b[0m\u001b[0;32m    675 \u001b[0;31m    \u001b[0;32mdef\u001b[0m \u001b[0m__setitem__\u001b[0m\u001b[0;34m(\u001b[0m\u001b[0mself\u001b[0m\u001b[0;34m,\u001b[0m \u001b[0mk\u001b[0m\u001b[0;34m:\u001b[0m \u001b[0mKey\u001b[0m\u001b[0;34m,\u001b[0m \u001b[0mv\u001b[0m\u001b[0;34m:\u001b[0m \u001b[0mVal\u001b[0m\u001b[0;34m)\u001b[0m\u001b[0;34m:\u001b[0m\u001b[0;34m\u001b[0m\u001b[0;34m\u001b[0m\u001b[0m\n",
      "\u001b[0m\u001b[0;32m--> 676 \u001b[0;31m        \u001b[0;32mreturn\u001b[0m \u001b[0mself\u001b[0m\u001b[0;34m.\u001b[0m\u001b[0mstore\u001b[0m\u001b[0;34m.\u001b[0m\u001b[0m__setitem__\u001b[0m\u001b[0;34m(\u001b[0m\u001b[0mself\u001b[0m\u001b[0;34m.\u001b[0m\u001b[0m_id_of_key\u001b[0m\u001b[0;34m(\u001b[0m\u001b[0mk\u001b[0m\u001b[0;34m)\u001b[0m\u001b[0;34m,\u001b[0m \u001b[0mself\u001b[0m\u001b[0;34m.\u001b[0m\u001b[0m_data_of_obj\u001b[0m\u001b[0;34m(\u001b[0m\u001b[0mv\u001b[0m\u001b[0;34m)\u001b[0m\u001b[0;34m)\u001b[0m\u001b[0;34m\u001b[0m\u001b[0;34m\u001b[0m\u001b[0m\n",
      "\u001b[0m\u001b[0;32m    677 \u001b[0;31m\u001b[0;34m\u001b[0m\u001b[0m\n",
      "\u001b[0m\u001b[0;32m    678 \u001b[0;31m    \u001b[0;31m# def update(self, *args, **kwargs):\u001b[0m\u001b[0;34m\u001b[0m\u001b[0;34m\u001b[0m\u001b[0m\n",
      "\u001b[0m\n",
      "self = <mongodol.scrap.old01.OldMongoPersister object at 0x1223a9090>\n",
      "k = 'absolute/reference/to/content'\n",
      "v = {'tag2', 'tag3'}\n",
      "<bound method identity_func of <mongodol.scrap.old01.OldMongoPersister object at 0x1223a9090>>\n",
      "data_of_obj(tags={'tag2', 'tag3'})\n",
      "({'tag2': True, 'tag3': True},)\n",
      "{'tag2', 'tag3'}\n",
      "data_of_obj(tags={'tag2', 'tag3'})\n",
      "({'tag2': True, 'tag3': True},)\n"
     ]
    }
   ],
   "source": [
    "debug"
   ]
  },
  {
   "cell_type": "code",
   "execution_count": 111,
   "id": "709c6299",
   "metadata": {},
   "outputs": [],
   "source": [
    "# m['this/ref/is/necessary'] = {'tags': 3}"
   ]
  },
  {
   "cell_type": "code",
   "execution_count": 109,
   "id": "7b16bbc3",
   "metadata": {},
   "outputs": [
    {
     "data": {
      "text/plain": [
       "set()"
      ]
     },
     "execution_count": 109,
     "metadata": {},
     "output_type": "execute_result"
    }
   ],
   "source": [
    "m['this/ref/is/necessary']"
   ]
  },
  {
   "cell_type": "code",
   "execution_count": 113,
   "id": "3de8fd45",
   "metadata": {},
   "outputs": [
    {
     "data": {
      "text/plain": [
       "[{'ref': 'absolute/reference/to/content'},\n",
       " {'ref': 'absolute/reference/to/some/other/content'},\n",
       " {'ref': 'this/ref/is/necessary'}]"
      ]
     },
     "execution_count": 113,
     "metadata": {},
     "output_type": "execute_result"
    }
   ],
   "source": [
    "# m.store[{'ref': 'this/ref/is/necessary'}]\n",
    "# m.store[{'ref': 'this/ref/is/necessary'}] = {'tags': 'adf'}\n",
    "# m.store[{'ref': 'this/ref/is/necessary'}]\n",
    "list(m.store)"
   ]
  },
  {
   "cell_type": "code",
   "execution_count": 114,
   "id": "5b842430",
   "metadata": {},
   "outputs": [
    {
     "data": {
      "text/plain": [
       "[{'ref': 'absolute/reference/to/content'},\n",
       " {'ref': 'absolute/reference/to/some/other/content'},\n",
       " {'ref': 'this/ref/is/necessary'}]"
      ]
     },
     "execution_count": 114,
     "metadata": {},
     "output_type": "execute_result"
    }
   ],
   "source": [
    "list(m.store.store)"
   ]
  },
  {
   "cell_type": "code",
   "execution_count": 105,
   "id": "a1b096f7",
   "metadata": {},
   "outputs": [
    {
     "data": {
      "text/plain": [
       "{'tag1': True, 'tag2': True, 'tag3': True}"
      ]
     },
     "execution_count": 105,
     "metadata": {},
     "output_type": "execute_result"
    }
   ],
   "source": [
    "k = 'this/ref/is/necessary'\n",
    "k = 'absolute/reference/to/some/other/content'\n",
    "\n",
    "m.store.store[{'ref': k}]\n",
    "\n",
    "d = m.store[{'ref': k}].get('tags', dict())\n",
    "d.update(**{'tag3': True})\n",
    "d\n",
    "# m[k]\n",
    "\n",
    "\n"
   ]
  },
  {
   "cell_type": "markdown",
   "id": "ad2dd3f9",
   "metadata": {},
   "source": [
    "# Historical sections"
   ]
  },
  {
   "cell_type": "markdown",
   "id": "b16fe0d0",
   "metadata": {},
   "source": [
    "The interface for grouping/tagging was significantly changed, but keeping the original proposal below."
   ]
  },
  {
   "cell_type": "markdown",
   "id": "9e3e9f88",
   "metadata": {},
   "source": [
    "## A little digression on scaffolding"
   ]
  },
  {
   "cell_type": "code",
   "execution_count": null,
   "id": "55a0779e",
   "metadata": {},
   "outputs": [],
   "source": [
    "from typing import MutableMapping, Iterable, Any, NewType, Callable\n",
    "\n",
    "Group = NewType('Group', str)\n",
    "Item = NewType('Item', Any)\n"
   ]
  },
  {
   "cell_type": "markdown",
   "id": "2fa16094",
   "metadata": {},
   "source": [
    "What functionality do we want around groups and their items?\n",
    "\n",
    "Let's express this through type annotations of some functions (which we'll encapsulate in a `Groups` class."
   ]
  },
  {
   "cell_type": "code",
   "execution_count": null,
   "id": "51039bdd",
   "metadata": {},
   "outputs": [],
   "source": [
    "class GroupsDacc:\n",
    "    add_items_to_group: Callable[[Iterable[Item], Group], Any]\n",
    "    list_groups: Callable[[], Iterable[Group]]\n",
    "    items_for_group: Callable[[Group],Iterable[Item]]\n",
    "    "
   ]
  },
  {
   "cell_type": "markdown",
   "id": "71e4afd9",
   "metadata": {},
   "source": [
    "Note that this should now be sufficient to generate a scaffold of what we need. \n",
    "\n",
    "We'll do it in two ways: By (dynamically) creating a `typing.protocol` describing a concrete `Groups` object we could implement in the future, and by generating (the code string for) a concrete (but empty) such `Groups` class."
   ]
  },
  {
   "cell_type": "code",
   "execution_count": null,
   "id": "d4fefd2e",
   "metadata": {},
   "outputs": [
    {
     "data": {
      "text/plain": [
       "<Sig (self, iterable: Iterable[__main__.Item], group: __main__.Group) -> Any>"
      ]
     },
     "metadata": {},
     "output_type": "display_data"
    }
   ],
   "source": [
    "import i2\n",
    "\n",
    "from meshed.scrap.annotations_to_meshes import (\n",
    "    func_types_to_scaffold, \n",
    "    func_types_to_protocol\n",
    ")\n",
    "\n",
    "# Groups.__annotations__ is a {name: func_annotation, ...} dict\n",
    "# We can make a protocol from that\n",
    "GroupsProtocol = func_types_to_protocol(GroupsDacc.__annotations__)\n",
    "\n",
    "# See that GroupsProtocol has methods for each item of the \n",
    "# Groups.__annotations__ dict. Each method bares a signature compatible with \n",
    "# the annotations.\n",
    "i2.Sig(GroupsProtocol.add_items_to_group)\n",
    "# <Sig (self, iterable: Iterable[__main__.Item], group: __main__.Group) -> Any>"
   ]
  },
  {
   "cell_type": "code",
   "execution_count": null,
   "id": "388ef485",
   "metadata": {},
   "outputs": [
    {
     "name": "stdout",
     "output_type": "stream",
     "text": [
      "\n",
      "class GeneratedClass:\n",
      "    def add_items_to_group(self, iterable: Iterable, group: Group) -> Any:\n",
      "    \tpass\n",
      "\n",
      "    def list_groups(self) -> Iterable:\n",
      "    \tpass\n",
      "\n",
      "    def items_for_group(self, group: Group) -> Iterable:\n",
      "    \tpass\n",
      "\n"
     ]
    }
   ],
   "source": [
    "# We can also \n",
    "print(func_types_to_scaffold(GroupsDacc.__annotations__))"
   ]
  },
  {
   "cell_type": "markdown",
   "id": "033a24f7",
   "metadata": {},
   "source": [
    "## TDD: Tests that describe the behavior we want"
   ]
  },
  {
   "cell_type": "code",
   "execution_count": null,
   "id": "69f64785",
   "metadata": {},
   "outputs": [],
   "source": [
    "from typing import MutableMapping, Iterable, Any, NewType, Callable, Protocol\n",
    "\n",
    "Group = NewType('Group', str)\n",
    "Item = NewType('Item', Any)\n",
    "\n",
    "\n",
    "class GroupsProtocol(Protocol):\n",
    "    def add_items_to_group(self, iterable: Iterable, group: Group) -> Any:\n",
    "        \"\"\"Add one or several items to a group\"\"\"\n",
    "\n",
    "    def list_groups(self) -> Iterable:\n",
    "        \"\"\"List group names\"\"\"\n",
    "\n",
    "    def items_for_group(self, group: Group) -> Iterable:\n",
    "        \"\"\"List the items in a group\"\"\"\n",
    "    \n",
    "    \n",
    "def test_groups(groups: GroupsProtocol):\n",
    "    # the following assertion isn't part of the behavior we want -- just a condition we'll \n",
    "    # need to be able to conduct our test: Namely, that our collection of groups/items is empty.\n",
    "    assert list(groups.list_groups()) == []  # make sure test is well setup\n",
    "    \n",
    "    groups.add_items_to_group('group_a', 'item_1', 'item_2')\n",
    "    assert sorted(groups.list_groups()) == ['group_a']\n",
    "    \n",
    "    groups.add_items_to_group('group_b', 'item_3')\n",
    "    assert sorted(groups.list_groups()) == ['group_a', 'group_b']\n",
    "    assert sorted(groups.items_for_group('group_a')) == ['item_1', 'item_2']\n",
    "    "
   ]
  },
  {
   "cell_type": "markdown",
   "id": "418a28e6",
   "metadata": {},
   "source": [
    "Now we'll implement two concrete `GroupsDacc`, using a store, a `MutableMapping`, as a back-end so as to keep the persistance concern still separate. \n",
    "\n",
    "The idea is: As long as we provide our concrete persister with the right `MutableMapping` facade (with a minimum of specifics/semantics such as what the keys and values are meant to be), we should have a working object.\n",
    "\n",
    "The two `GroupsDacc` options will differ on the particulars of the store. \n",
    "- In the first, we'll assume the store has items as keys and groups as values. \n",
    "- In the second we'll assume the groups are the keys, and values are sets of items of that group."
   ]
  },
  {
   "cell_type": "markdown",
   "id": "8fd48430",
   "metadata": {},
   "source": [
    "## Concrete GroupsDacc (option 1): ItemGroupDacc"
   ]
  },
  {
   "cell_type": "code",
   "execution_count": null,
   "id": "10496a65",
   "metadata": {},
   "outputs": [],
   "source": [
    "from typing import MutableMapping, Iterable, Any, NewType\n",
    "from dataclasses import dataclass\n",
    "\n",
    "Group = NewType('Group', str)\n",
    "Item = NewType('Item', Any)\n",
    "ItemGroupPairs = NewType('ItemGroupPairs', MutableMapping[Item, Group])\n",
    "\n",
    "@dataclass\n",
    "class ItemGroupDacc:\n",
    "    store: ItemGroupPairs\n",
    "        \n",
    "    def add_items_to_group(self, group: Group, *items: Iterable[Item]) -> Any:\n",
    "        for item in items:\n",
    "            self.store[item] = group\n",
    "\n",
    "    def list_groups(self) -> Iterable[Group]:\n",
    "        return set(self.store.values())\n",
    "\n",
    "    def items_for_group(self, group: Group) -> Iterable[Item]:\n",
    "        # TODO: Exxpress this filtering in such a way that will allow us to take advantage of DB specifics\n",
    "        #  (e.g., passing on the filtering to the DB instead of filtering in python itself)\n",
    "        return (item for item, group_ in self.store.items() if group_ == group)\n",
    "    "
   ]
  },
  {
   "cell_type": "code",
   "execution_count": null,
   "id": "33a61fa8",
   "metadata": {},
   "outputs": [],
   "source": [
    "store = dict()\n",
    "test_groups(ItemGroupDacc(store))  # a dict works!"
   ]
  },
  {
   "cell_type": "markdown",
   "id": "b70af820",
   "metadata": {},
   "source": [
    "## Concrete GroupsDacc (option 2): GroupSetsDacc"
   ]
  },
  {
   "cell_type": "code",
   "execution_count": null,
   "id": "797afd6d",
   "metadata": {},
   "outputs": [],
   "source": [
    "from typing import MutableMapping, Iterable, Any, NewType, Set\n",
    "from dataclasses import dataclass\n",
    "\n",
    "Group = NewType('Group', str)\n",
    "Item = NewType('Item', Any)\n",
    "GroupSets = NewType('GroupSets', MutableMapping[Group, Set[Item]])\n",
    "\n",
    "@dataclass\n",
    "class GroupSetsDacc:\n",
    "    store: GroupSets\n",
    "        \n",
    "    def add_items_to_group(self, group: Group, *items: Iterable[Item]) -> Any:\n",
    "        self.store[group] |= set(items)\n",
    "\n",
    "    def list_groups(self) -> Iterable[Group]:\n",
    "        return set(self.store)\n",
    "            \n",
    "    def items_for_group(self, group: Group) -> Iterable[Item]:\n",
    "        return self.store[group]\n",
    "    "
   ]
  },
  {
   "cell_type": "code",
   "execution_count": null,
   "id": "23924ca8",
   "metadata": {},
   "outputs": [],
   "source": [
    "from collections import defaultdict\n",
    "\n",
    "store = defaultdict(set)\n",
    "test_groups(GroupSetsDacc(store))  # a defaultdict(set) works as a store!"
   ]
  },
  {
   "cell_type": "code",
   "execution_count": null,
   "id": "9eb17ca0",
   "metadata": {},
   "outputs": [],
   "source": []
  },
  {
   "cell_type": "markdown",
   "id": "2f5cc6a6",
   "metadata": {},
   "source": [
    "## Actual persisting stores using mongo"
   ]
  },
  {
   "cell_type": "code",
   "execution_count": null,
   "id": "99b3cdd3",
   "metadata": {},
   "outputs": [],
   "source": [
    "# from mongodol.base import MongoClient"
   ]
  },
  {
   "cell_type": "markdown",
   "id": "d93a9bd9",
   "metadata": {},
   "source": [
    "### ItemGroupPairs (for ItemGroupDacc)"
   ]
  },
  {
   "cell_type": "markdown",
   "id": "03ad536a",
   "metadata": {},
   "source": [
    "Options for implementing:\n",
    "\n",
    "```\n",
    "s[item] = group\n",
    "```\n",
    "\n",
    "Option 1: But here we'd need to produce the ID on write\n",
    "\n",
    "```\n",
    "--> {'_id': ID, 'group': group', 'item': item}\n",
    "```\n",
    "\n",
    "Option 2: But we need to allow re-writes on `_id`\n",
    "\n",
    "```\n",
    "--> {'_id': item, 'group': group}\n",
    "```\n"
   ]
  },
  {
   "cell_type": "code",
   "execution_count": null,
   "id": "625c06f2",
   "metadata": {},
   "outputs": [
    {
     "data": {
      "text/plain": [
       "[]"
      ]
     },
     "metadata": {},
     "output_type": "display_data"
    }
   ],
   "source": [
    "from operator import itemgetter\n",
    "\n",
    "from dol import wrap_kvs, Pipe\n",
    "from mongodol.stores import MongoStore\n",
    "\n",
    "\n",
    "# To be able to overwrite an existing (item, group) pair (by default MongoStore doesn't allow it)\n",
    "def delete_if_exists(self, k, v):\n",
    "    if k in self:\n",
    "        del self[k]\n",
    "    return v\n",
    "\n",
    "\n",
    "trans = Pipe(\n",
    "    wrap_kvs(\n",
    "        key_of_id=itemgetter('_id'), \n",
    "        id_of_key=lambda x: {'_id': x}, \n",
    "        obj_of_data=itemgetter('group'),\n",
    "        data_of_obj=lambda x: {'group': x}, \n",
    "        preset=delete_if_exists,\n",
    "    )\n",
    ")\n",
    "\n",
    "@trans\n",
    "class GroupStore(MongoStore):\n",
    "    \"\"\"To group items\"\"\"\n",
    "    def __init__(self,\n",
    "        db_name='scrap',\n",
    "        collection_name='group_items',\n",
    "        mongo_client_kwargs=None,\n",
    "    ):\n",
    "        super().__init__(\n",
    "            db_name=db_name,\n",
    "            collection_name=collection_name,\n",
    "            key_fields=['_id'],\n",
    "            data_fields=['group'],\n",
    "            mongo_client_kwargs=mongo_client_kwargs\n",
    "        )\n",
    "    \n",
    "m = GroupStore()\n",
    "list(m)"
   ]
  },
  {
   "cell_type": "code",
   "execution_count": null,
   "id": "6d502cfb",
   "metadata": {},
   "outputs": [],
   "source": [
    "store = GroupStore()\n",
    "\n",
    "# empty the store\n",
    "for k in store: \n",
    "    del store[k]\n",
    "\n",
    "test_groups(ItemGroupDacc(store))"
   ]
  },
  {
   "cell_type": "markdown",
   "id": "b2f8bb70",
   "metadata": {},
   "source": [
    "### GroupSets (for GroupSetsDacc)"
   ]
  },
  {
   "cell_type": "markdown",
   "id": "dbfcc4e6",
   "metadata": {},
   "source": [
    "Options for implementing:\n",
    "\n",
    "```\n",
    "s[group] |= items\n",
    "```\n",
    "\n",
    "Option 1: But here we'd need to produce the ID on write\n",
    "\n",
    "```\n",
    "--> {'_id': group, 'items': items}\n",
    "```\n",
    "\n",
    "Option 2: But we need to allow re-writes on `_id`\n",
    "\n",
    "```\n",
    "--> {'_id': ID, 'group': group, 'item': item}  # (group, items) -> (group, item_1), (group, item_2), ...\n",
    "```\n"
   ]
  },
  {
   "cell_type": "code",
   "execution_count": null,
   "id": "aeb55af6",
   "metadata": {},
   "outputs": [],
   "source": [
    "from operator import itemgetter\n",
    "\n",
    "from dol import wrap_kvs, Pipe\n",
    "from mongodol.stores import MongoStore\n",
    "\n",
    "\n",
    "# To be able to overwrite an existing (item, group) pair (by default MongoStore doesn't allow it)\n",
    "def delete_if_exists(self, k, v):\n",
    "    if k in self:\n",
    "        del self[k]\n",
    "    return v\n",
    "\n",
    "\n",
    "trans = Pipe(\n",
    "    wrap_kvs(\n",
    "        key_of_id=itemgetter('_id'), \n",
    "        id_of_key=lambda x: {'_id': x}, \n",
    "        obj_of_data=Pipe(itemgetter('items'), set),\n",
    "        data_of_obj=lambda x: {'items': list(x) if not isinstance(x, str) else [x]}, \n",
    "#         preset=delete_if_exists,\n",
    "    )\n",
    ")\n",
    "\n",
    "@trans\n",
    "class ItemsStore(MongoStore):\n",
    "    \"\"\"To group items\"\"\"\n",
    "    def __init__(self,\n",
    "        db_name='scrap',\n",
    "        collection_name='items_group',\n",
    "        mongo_client_kwargs=None,\n",
    "    ):\n",
    "        super().__init__(\n",
    "            db_name=db_name,\n",
    "            collection_name=collection_name,\n",
    "            key_fields=['_id'],\n",
    "            data_fields=['items'],\n",
    "            mongo_client_kwargs=mongo_client_kwargs\n",
    "        )\n",
    "        \n",
    "    def __missing__(self, k):\n",
    "        return {'items': []}\n",
    "    "
   ]
  },
  {
   "cell_type": "code",
   "execution_count": null,
   "id": "af94de66",
   "metadata": {},
   "outputs": [],
   "source": [
    "store = ItemsStore()\n",
    "\n",
    "# empty the store\n",
    "for k in store: \n",
    "    del store[k]\n",
    "\n",
    "test_groups(GroupSetsDacc(store))"
   ]
  },
  {
   "cell_type": "markdown",
   "id": "c6cc3da9",
   "metadata": {},
   "source": [
    "## Implementation that uses \"metadata\" collection"
   ]
  },
  {
   "cell_type": "markdown",
   "id": "9d2184c6",
   "metadata": {},
   "source": [
    "Say you already have a mongo collection that contains meta-data on your items. \n",
    "That is, a collection that contains docs, one per item, that is intended to record information about this item. \n",
    "The groups the item belongs to can be just one additional one. "
   ]
  },
  {
   "cell_type": "code",
   "execution_count": null,
   "id": "7390c24d",
   "metadata": {},
   "outputs": [],
   "source": [
    "metadata_docs = [\n",
    "    {\n",
    "        \"_id\": \"123\",\n",
    "        \"ref\": \"absolute/reference/to/content\",\n",
    "        \"some\": \"other metadata\",  # just to show there can be other stuff\n",
    "        \"groups\": {\n",
    "            # instead of a list, we'll use an object (dict), whose fields are the group names\n",
    "            # This is because mongoDB allows us to index fields, therefore automatically \n",
    "            # get the bidirectional mapping from groups to refs the group \"contains\"\n",
    "            \"group1\": True,\n",
    "            \"group2\": True,\n",
    "        }\n",
    "    },\n",
    "    {\n",
    "        \"_id\": \"456\",\n",
    "        \"ref\": \"absolute/reference/to/some/other/content\",\n",
    "        \"groups\": {\n",
    "            \"group1\": True,\n",
    "            \"group3\": True,\n",
    "        }\n",
    "    },\n",
    "    {\n",
    "        \"_id\": \"789\",\n",
    "        \"ref\": \"this/ref/is/necessary\",\n",
    "        \"optional\": \"metadata\",\n",
    "        # and not groups here (but whenever someone/something adds a group, it will be added here)\n",
    "    }\n",
    "]"
   ]
  },
  {
   "cell_type": "code",
   "execution_count": null,
   "id": "5ea8e9fd",
   "metadata": {},
   "outputs": [],
   "source": []
  },
  {
   "cell_type": "code",
   "execution_count": null,
   "id": "cf3bfe1b",
   "metadata": {},
   "outputs": [],
   "source": []
  },
  {
   "cell_type": "code",
   "execution_count": null,
   "id": "eeffbd9e",
   "metadata": {},
   "outputs": [],
   "source": []
  },
  {
   "cell_type": "code",
   "execution_count": null,
   "id": "9568fa00",
   "metadata": {},
   "outputs": [],
   "source": []
  }
 ],
 "metadata": {
  "kernelspec": {
   "display_name": "Python 3 (ipykernel)",
   "language": "python",
   "name": "python3"
  },
  "language_info": {
   "codemirror_mode": {
    "name": "ipython",
    "version": 3
   },
   "file_extension": ".py",
   "mimetype": "text/x-python",
   "name": "python",
   "nbconvert_exporter": "python",
   "pygments_lexer": "ipython3",
   "version": "3.10.8"
  },
  "toc": {
   "base_numbering": 1,
   "nav_menu": {},
   "number_sections": true,
   "sideBar": true,
   "skip_h1_title": false,
   "title_cell": "Table of Contents",
   "title_sidebar": "Contents",
   "toc_cell": false,
   "toc_position": {},
   "toc_section_display": true,
   "toc_window_display": false
  }
 },
 "nbformat": 4,
 "nbformat_minor": 5
}
