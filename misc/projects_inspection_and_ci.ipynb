{
 "cells": [
  {
   "cell_type": "code",
   "execution_count": null,
   "metadata": {},
   "outputs": [],
   "source": []
  },
  {
   "cell_type": "code",
   "execution_count": null,
   "metadata": {},
   "outputs": [],
   "source": []
  },
  {
   "cell_type": "markdown",
   "metadata": {},
   "source": [
    "# Documentation pages"
   ]
  },
  {
   "cell_type": "markdown",
   "metadata": {},
   "source": [
    "## List of repos"
   ]
  },
  {
   "cell_type": "code",
   "execution_count": null,
   "metadata": {},
   "outputs": [],
   "source": [
    "def get_repo_stubs_from_github(org='i2mint'):\n",
    "    import hubcap\n",
    "    org_reader = hubcap.GitHubReader(org)\n",
    "    return [f\"{org}/{repo}\" for repo in list(org_reader)]\n",
    "\n",
    "def get_repo_stubs(savefile=None, org='i2mint'):\n",
    "    import json\n",
    "    import os\n",
    "\n",
    "    if not savefile.endswith('.json'):\n",
    "        org = savefile\n",
    "        savefile = f'{org}_repo_stubs.json'\n",
    "\n",
    "    if os.path.exists(savefile):\n",
    "        with open(savefile, 'r') as f:\n",
    "            repo_stubs = json.load(f)\n",
    "    else:\n",
    "        repo_stubs = get_repo_stubs_from_github()\n",
    "        with open(savefile, 'w') as f:\n",
    "            json.dump(repo_stubs, f)\n",
    "\n",
    "    return repo_stubs\n",
    "\n"
   ]
  },
  {
   "cell_type": "code",
   "execution_count": 51,
   "metadata": {},
   "outputs": [
    {
     "data": {
      "text/plain": [
       "107"
      ]
     },
     "execution_count": 51,
     "metadata": {},
     "output_type": "execute_result"
    }
   ],
   "source": [
    "# repo_stubs = [f\"{org}/{repo}\" for repo in list(org_reader)]\n",
    "\n",
    "repo_stubs = get_repo_stubs('i2mint')\n",
    "len(repo_stubs)"
   ]
  },
  {
   "cell_type": "markdown",
   "metadata": {},
   "source": [
    "## Check what repos don't have documentation pages"
   ]
  },
  {
   "cell_type": "code",
   "execution_count": 70,
   "metadata": {},
   "outputs": [],
   "source": [
    "def documentation_exists(\n",
    "    repo: str,\n",
    "    repo_to_documentation_url = \"https://{}.github.io/{}\".format,\n",
    "    org=None\n",
    "):\n",
    "    import requests \n",
    "\n",
    "    if '/' in repo:\n",
    "        org, repo = repo.split('/')\n",
    "    else:\n",
    "        assert org is not None, 'If repo does not contain org, org must be provided'\n",
    "    \n",
    "    url = repo_to_documentation_url(org, repo)\n",
    "    r = requests.get(url)\n",
    "    return r.status_code == 200\n",
    "\n",
    "def gather_docs_existence(repo_stubs):\n",
    "    for repo in repo_stubs:\n",
    "        try:\n",
    "            yield {'repo': repo, 'docs': documentation_exists(repo)}\n",
    "        except Exception as e:\n",
    "            yield {'repo': repo, 'docs': False, 'error': str(e)}"
   ]
  },
  {
   "cell_type": "code",
   "execution_count": 74,
   "metadata": {},
   "outputs": [
    {
     "name": "stdout",
     "output_type": "stream",
     "text": [
      "docs_exist_df.shape=(107, 2)\n"
     ]
    },
    {
     "data": {
      "text/html": [
       "<div>\n",
       "<style scoped>\n",
       "    .dataframe tbody tr th:only-of-type {\n",
       "        vertical-align: middle;\n",
       "    }\n",
       "\n",
       "    .dataframe tbody tr th {\n",
       "        vertical-align: top;\n",
       "    }\n",
       "\n",
       "    .dataframe thead th {\n",
       "        text-align: right;\n",
       "    }\n",
       "</style>\n",
       "<table border=\"1\" class=\"dataframe\">\n",
       "  <thead>\n",
       "    <tr style=\"text-align: right;\">\n",
       "      <th></th>\n",
       "      <th>repo</th>\n",
       "      <th>docs</th>\n",
       "    </tr>\n",
       "  </thead>\n",
       "  <tbody>\n",
       "    <tr>\n",
       "      <th>0</th>\n",
       "      <td>i2mint/aiofiledol</td>\n",
       "      <td>True</td>\n",
       "    </tr>\n",
       "    <tr>\n",
       "      <th>1</th>\n",
       "      <td>i2mint/arangodol</td>\n",
       "      <td>True</td>\n",
       "    </tr>\n",
       "    <tr>\n",
       "      <th>2</th>\n",
       "      <td>i2mint/atypes</td>\n",
       "      <td>False</td>\n",
       "    </tr>\n",
       "    <tr>\n",
       "      <th>3</th>\n",
       "      <td>i2mint/audiostream2py</td>\n",
       "      <td>True</td>\n",
       "    </tr>\n",
       "    <tr>\n",
       "      <th>4</th>\n",
       "      <td>i2mint/azuredol</td>\n",
       "      <td>True</td>\n",
       "    </tr>\n",
       "  </tbody>\n",
       "</table>\n",
       "</div>"
      ],
      "text/plain": [
       "                    repo   docs\n",
       "0      i2mint/aiofiledol   True\n",
       "1       i2mint/arangodol   True\n",
       "2          i2mint/atypes  False\n",
       "3  i2mint/audiostream2py   True\n",
       "4        i2mint/azuredol   True"
      ]
     },
     "execution_count": 74,
     "metadata": {},
     "output_type": "execute_result"
    }
   ],
   "source": [
    "import pandas as pd\n",
    "\n",
    "docs_exist_df = pd.DataFrame(list(gather_docs_existence(repo_stubs)))\n",
    "print(f\"{docs_exist_df.shape=}\")\n",
    "\n",
    "docs_exist_df.head()\n"
   ]
  },
  {
   "cell_type": "code",
   "execution_count": 75,
   "metadata": {},
   "outputs": [
    {
     "data": {
      "text/plain": [
       "docs\n",
       "True     96\n",
       "False    11\n",
       "Name: count, dtype: int64"
      ]
     },
     "execution_count": 75,
     "metadata": {},
     "output_type": "execute_result"
    }
   ],
   "source": [
    "docs_exist_df['docs'].value_counts()"
   ]
  },
  {
   "cell_type": "code",
   "execution_count": 76,
   "metadata": {},
   "outputs": [
    {
     "data": {
      "text/html": [
       "<div>\n",
       "<style scoped>\n",
       "    .dataframe tbody tr th:only-of-type {\n",
       "        vertical-align: middle;\n",
       "    }\n",
       "\n",
       "    .dataframe tbody tr th {\n",
       "        vertical-align: top;\n",
       "    }\n",
       "\n",
       "    .dataframe thead th {\n",
       "        text-align: right;\n",
       "    }\n",
       "</style>\n",
       "<table border=\"1\" class=\"dataframe\">\n",
       "  <thead>\n",
       "    <tr style=\"text-align: right;\">\n",
       "      <th></th>\n",
       "      <th>repo</th>\n",
       "      <th>docs</th>\n",
       "    </tr>\n",
       "  </thead>\n",
       "  <tbody>\n",
       "    <tr>\n",
       "      <th>2</th>\n",
       "      <td>i2mint/atypes</td>\n",
       "      <td>False</td>\n",
       "    </tr>\n",
       "    <tr>\n",
       "      <th>6</th>\n",
       "      <td>i2mint/chromadol</td>\n",
       "      <td>False</td>\n",
       "    </tr>\n",
       "    <tr>\n",
       "      <th>8</th>\n",
       "      <td>i2mint/content</td>\n",
       "      <td>False</td>\n",
       "    </tr>\n",
       "    <tr>\n",
       "      <th>17</th>\n",
       "      <td>i2mint/dol_cookbook</td>\n",
       "      <td>False</td>\n",
       "    </tr>\n",
       "    <tr>\n",
       "      <th>23</th>\n",
       "      <td>i2mint/examples</td>\n",
       "      <td>False</td>\n",
       "    </tr>\n",
       "    <tr>\n",
       "      <th>37</th>\n",
       "      <td>i2mint/i2i_scrap</td>\n",
       "      <td>False</td>\n",
       "    </tr>\n",
       "    <tr>\n",
       "      <th>61</th>\n",
       "      <td>i2mint/pdfdol</td>\n",
       "      <td>False</td>\n",
       "    </tr>\n",
       "    <tr>\n",
       "      <th>71</th>\n",
       "      <td>i2mint/py2misc</td>\n",
       "      <td>False</td>\n",
       "    </tr>\n",
       "    <tr>\n",
       "      <th>80</th>\n",
       "      <td>i2mint/redisposted</td>\n",
       "      <td>False</td>\n",
       "    </tr>\n",
       "    <tr>\n",
       "      <th>82</th>\n",
       "      <td>i2mint/s3dol</td>\n",
       "      <td>False</td>\n",
       "    </tr>\n",
       "    <tr>\n",
       "      <th>85</th>\n",
       "      <td>i2mint/spearhead_sump</td>\n",
       "      <td>False</td>\n",
       "    </tr>\n",
       "  </tbody>\n",
       "</table>\n",
       "</div>"
      ],
      "text/plain": [
       "                     repo   docs\n",
       "2           i2mint/atypes  False\n",
       "6        i2mint/chromadol  False\n",
       "8          i2mint/content  False\n",
       "17    i2mint/dol_cookbook  False\n",
       "23        i2mint/examples  False\n",
       "37       i2mint/i2i_scrap  False\n",
       "61          i2mint/pdfdol  False\n",
       "71         i2mint/py2misc  False\n",
       "80     i2mint/redisposted  False\n",
       "82           i2mint/s3dol  False\n",
       "85  i2mint/spearhead_sump  False"
      ]
     },
     "execution_count": 76,
     "metadata": {},
     "output_type": "execute_result"
    }
   ],
   "source": [
    "docs_exist_df[docs_exist_df['docs'] == False]"
   ]
  },
  {
   "cell_type": "code",
   "execution_count": 78,
   "metadata": {},
   "outputs": [
    {
     "name": "stdout",
     "output_type": "stream",
     "text": [
      "now_true.shape=(4, 2)\n",
      "still_false.shape=(7, 2)\n"
     ]
    },
    {
     "data": {
      "text/html": [
       "<div>\n",
       "<style scoped>\n",
       "    .dataframe tbody tr th:only-of-type {\n",
       "        vertical-align: middle;\n",
       "    }\n",
       "\n",
       "    .dataframe tbody tr th {\n",
       "        vertical-align: top;\n",
       "    }\n",
       "\n",
       "    .dataframe thead th {\n",
       "        text-align: right;\n",
       "    }\n",
       "</style>\n",
       "<table border=\"1\" class=\"dataframe\">\n",
       "  <thead>\n",
       "    <tr style=\"text-align: right;\">\n",
       "      <th></th>\n",
       "      <th>repo</th>\n",
       "      <th>docs</th>\n",
       "    </tr>\n",
       "  </thead>\n",
       "  <tbody>\n",
       "    <tr>\n",
       "      <th>2</th>\n",
       "      <td>i2mint/content</td>\n",
       "      <td>False</td>\n",
       "    </tr>\n",
       "    <tr>\n",
       "      <th>3</th>\n",
       "      <td>i2mint/dol_cookbook</td>\n",
       "      <td>False</td>\n",
       "    </tr>\n",
       "    <tr>\n",
       "      <th>4</th>\n",
       "      <td>i2mint/examples</td>\n",
       "      <td>False</td>\n",
       "    </tr>\n",
       "    <tr>\n",
       "      <th>5</th>\n",
       "      <td>i2mint/i2i_scrap</td>\n",
       "      <td>False</td>\n",
       "    </tr>\n",
       "    <tr>\n",
       "      <th>7</th>\n",
       "      <td>i2mint/py2misc</td>\n",
       "      <td>False</td>\n",
       "    </tr>\n",
       "    <tr>\n",
       "      <th>9</th>\n",
       "      <td>i2mint/s3dol</td>\n",
       "      <td>False</td>\n",
       "    </tr>\n",
       "    <tr>\n",
       "      <th>10</th>\n",
       "      <td>i2mint/spearhead_sump</td>\n",
       "      <td>False</td>\n",
       "    </tr>\n",
       "  </tbody>\n",
       "</table>\n",
       "</div>"
      ],
      "text/plain": [
       "                     repo   docs\n",
       "2          i2mint/content  False\n",
       "3     i2mint/dol_cookbook  False\n",
       "4         i2mint/examples  False\n",
       "5        i2mint/i2i_scrap  False\n",
       "7          i2mint/py2misc  False\n",
       "9            i2mint/s3dol  False\n",
       "10  i2mint/spearhead_sump  False"
      ]
     },
     "execution_count": 78,
     "metadata": {},
     "output_type": "execute_result"
    }
   ],
   "source": [
    "# reverify just the ones that failed\n",
    "\n",
    "retry_stubs = docs_exist_df[docs_exist_df['docs'] == False]['repo']\n",
    "\n",
    "retry_df = pd.DataFrame(list(gather_docs_existence(retry_stubs)))\n",
    "\n",
    "now_true = retry_df[retry_df['docs'] == True]\n",
    "still_false = retry_df[retry_df['docs'] == False]\n",
    "\n",
    "print(f\"{now_true.shape=}\")\n",
    "print(f\"{still_false.shape=}\")\n",
    "still_false"
   ]
  },
  {
   "cell_type": "code",
   "execution_count": 82,
   "metadata": {},
   "outputs": [
    {
     "name": "stdout",
     "output_type": "stream",
     "text": [
      "|    | repo                  | docs   |\n",
      "|---:|:----------------------|:-------|\n",
      "|  0 | i2mint/content        | False  |\n",
      "|  1 | i2mint/dol_cookbook   | False  |\n",
      "|  2 | i2mint/examples       | False  |\n",
      "|  3 | i2mint/i2i_scrap      | False  |\n",
      "|  4 | i2mint/py2misc        | False  |\n",
      "|  5 | i2mint/s3dol          | False  |\n",
      "|  6 | i2mint/spearhead_sump | False  |\n"
     ]
    }
   ],
   "source": [
    "print(still_false.reset_index(drop=True).to_markdown())"
   ]
  },
  {
   "cell_type": "code",
   "execution_count": 86,
   "metadata": {},
   "outputs": [
    {
     "name": "stdout",
     "output_type": "stream",
     "text": [
      "i2mint/content, i2mint/dol_cookbook, i2mint/examples, i2mint/i2i_scrap, i2mint/py2misc, i2mint/s3dol,\n",
      "i2mint/spearhead_sump\n"
     ]
    }
   ],
   "source": [
    "import lkj\n",
    "\n",
    "lkj.wrapped_print(still_false.repo.to_list(), max_width=120)"
   ]
  },
  {
   "cell_type": "markdown",
   "metadata": {},
   "source": [
    "## Make gh-pages branch"
   ]
  },
  {
   "cell_type": "code",
   "execution_count": 43,
   "metadata": {},
   "outputs": [
    {
     "name": "stdout",
     "output_type": "stream",
     "text": [
      "i2mint/py2dash gh-pages branch doesn't exist: 404, response.content=b'{\"message\":\"Branch not found\",\"documentation_url\":\"https://docs.github.com/rest/branches/branches#get-a-branch\",\"status\":\"404\"}'\n",
      "i2mint/py2dash Branch gh-pages has been successfully created.\n",
      "i2mint/py2misc gh-pages branch doesn't exist: 404, response.content=b'{\"message\":\"Branch not found\",\"documentation_url\":\"https://docs.github.com/rest/branches/branches#get-a-branch\",\"status\":\"404\"}'\n",
      "i2mint/py2misc Branch gh-pages has been successfully created.\n",
      "i2mint/py2mqtt gh-pages branch doesn't exist: 404, response.content=b'{\"message\":\"Branch not found\",\"documentation_url\":\"https://docs.github.com/rest/branches/branches#get-a-branch\",\"status\":\"404\"}'\n",
      "i2mint/py2mqtt Branch gh-pages has been successfully created.\n",
      "i2mint/py2store gh-pages branch doesn't exist: 404, response.content=b'{\"message\":\"Branch not found\",\"documentation_url\":\"https://docs.github.com/rest/branches/branches#get-a-branch\",\"status\":\"404\"}'\n",
      "i2mint/py2store Branch gh-pages has been successfully created.\n",
      "i2mint/pydrivedol gh-pages branch doesn't exist: 404, response.content=b'{\"message\":\"Branch not found\",\"documentation_url\":\"https://docs.github.com/rest/branches/branches#get-a-branch\",\"status\":\"404\"}'\n",
      "i2mint/pydrivedol Branch gh-pages has been successfully created.\n",
      "i2mint/qh gh-pages branch doesn't exist: 404, response.content=b'{\"message\":\"Branch not found\",\"documentation_url\":\"https://docs.github.com/rest/branches/branches#get-a-branch\",\"status\":\"404\"}'\n",
      "i2mint/qh Branch gh-pages has been successfully created.\n",
      "i2mint/qo Branch gh-pages already exists.\n",
      "i2mint/recode gh-pages branch doesn't exist: 404, response.content=b'{\"message\":\"Branch not found\",\"documentation_url\":\"https://docs.github.com/rest/branches/branches#get-a-branch\",\"status\":\"404\"}'\n",
      "i2mint/recode Branch gh-pages has been successfully created.\n",
      "i2mint/redisdol gh-pages branch doesn't exist: 404, response.content=b'{\"message\":\"Branch not found\",\"documentation_url\":\"https://docs.github.com/rest/branches/branches#get-a-branch\",\"status\":\"404\"}'\n",
      "i2mint/redisdol Branch gh-pages has been successfully created.\n",
      "i2mint/replize gh-pages branch doesn't exist: 404, response.content=b'{\"message\":\"Branch not found\",\"documentation_url\":\"https://docs.github.com/rest/branches/branches#get-a-branch\",\"status\":\"404\"}'\n",
      "i2mint/replize Branch gh-pages has been successfully created.\n",
      "i2mint/slink gh-pages branch doesn't exist: 404, response.content=b'{\"message\":\"Branch not found\",\"documentation_url\":\"https://docs.github.com/rest/branches/branches#get-a-branch\",\"status\":\"404\"}'\n",
      "i2mint/slink Branch gh-pages has been successfully created.\n",
      "i2mint/splatter gh-pages branch doesn't exist: 404, response.content=b'{\"message\":\"Branch not found\",\"documentation_url\":\"https://docs.github.com/rest/branches/branches#get-a-branch\",\"status\":\"404\"}'\n",
      "i2mint/splatter Branch gh-pages has been successfully created.\n",
      "i2mint/sqldol Branch gh-pages already exists.\n",
      "i2mint/strand gh-pages branch doesn't exist: 404, response.content=b'{\"message\":\"Branch not found\",\"documentation_url\":\"https://docs.github.com/rest/branches/branches#get-a-branch\",\"status\":\"404\"}'\n",
      "i2mint/strand Branch gh-pages has been successfully created.\n",
      "i2mint/stream2py gh-pages branch doesn't exist: 404, response.content=b'{\"message\":\"Branch not found\",\"documentation_url\":\"https://docs.github.com/rest/branches/branches#get-a-branch\",\"status\":\"404\"}'\n",
      "i2mint/stream2py Branch gh-pages has been successfully created.\n",
      "i2mint/test2doc gh-pages branch doesn't exist: 404, response.content=b'{\"message\":\"Branch not found\",\"documentation_url\":\"https://docs.github.com/rest/branches/branches#get-a-branch\",\"status\":\"404\"}'\n",
      "i2mint/test2doc Branch gh-pages has been successfully created.\n",
      "i2mint/tested gh-pages branch doesn't exist: 404, response.content=b'{\"message\":\"Branch not found\",\"documentation_url\":\"https://docs.github.com/rest/branches/branches#get-a-branch\",\"status\":\"404\"}'\n",
      "i2mint/tested Branch gh-pages has been successfully created.\n",
      "i2mint/udos gh-pages branch doesn't exist: 404, response.content=b'{\"message\":\"Branch not found\",\"documentation_url\":\"https://docs.github.com/rest/branches/branches#get-a-branch\",\"status\":\"404\"}'\n",
      "i2mint/udos Branch gh-pages has been successfully created.\n",
      "i2mint/umpyre gh-pages branch doesn't exist: 404, response.content=b'{\"message\":\"Branch not found\",\"documentation_url\":\"https://docs.github.com/rest/branches/branches#get-a-branch\",\"status\":\"404\"}'\n",
      "i2mint/umpyre Branch gh-pages has been successfully created.\n",
      "i2mint/verb gh-pages branch doesn't exist: 404, response.content=b'{\"message\":\"Branch not found\",\"documentation_url\":\"https://docs.github.com/rest/branches/branches#get-a-branch\",\"status\":\"404\"}'\n",
      "i2mint/verb Branch gh-pages has been successfully created.\n",
      "i2mint/viable gh-pages branch doesn't exist: 404, response.content=b'{\"message\":\"Branch not found\",\"documentation_url\":\"https://docs.github.com/rest/branches/branches#get-a-branch\",\"status\":\"404\"}'\n",
      "i2mint/viable Branch gh-pages has been successfully created.\n",
      "i2mint/zu gh-pages branch doesn't exist: 404, response.content=b'{\"message\":\"Branch not found\",\"documentation_url\":\"https://docs.github.com/rest/branches/branches#get-a-branch\",\"status\":\"404\"}'\n",
      "i2mint/zu Branch gh-pages has been successfully created.\n"
     ]
    }
   ],
   "source": [
    "from epythet.tools.published_docs import ensure_branch\n",
    "\n",
    "for i, repo_stub in enumerate(repo_stubs):\n",
    "    ensure_branch(repo_stub, branch='gh-pages')"
   ]
  },
  {
   "cell_type": "markdown",
   "metadata": {},
   "source": [
    "## Set github settings for pages (no working)"
   ]
  },
  {
   "cell_type": "code",
   "execution_count": null,
   "metadata": {},
   "outputs": [],
   "source": [
    "from epythet.tools.published_docs import configure_github_pages"
   ]
  },
  {
   "cell_type": "code",
   "execution_count": 44,
   "metadata": {},
   "outputs": [],
   "source": [
    "# TODO: Doesn't seem to work. Repair, or leave settings to be done manually?\n",
    "# def configure_github_pages_for_stubs(repo_stubs):\n",
    "#     for repo_stub in repo_stubs:\n",
    "#         yield repo_stub, configure_github_pages(repo_stub)\n",
    "\n",
    "# repo_pages_status = dict(configure_github_pages_for_stubs(repo_stubs))"
   ]
  },
  {
   "cell_type": "markdown",
   "metadata": {},
   "source": [
    "## Analyze repo_pages_status"
   ]
  },
  {
   "cell_type": "code",
   "execution_count": null,
   "metadata": {},
   "outputs": [
    {
     "data": {
      "text/plain": [
       "b'{\"message\":\"Not Found\",\"documentation_url\":\"https://docs.github.com/rest/pages/pages#update-information-about-a-apiname-pages-site\",\"status\":\"404\"}'"
      ]
     },
     "metadata": {},
     "output_type": "display_data"
    }
   ],
   "source": [
    "repo_pages_status['i2mint/redisposted'].content"
   ]
  },
  {
   "cell_type": "code",
   "execution_count": null,
   "metadata": {},
   "outputs": [],
   "source": [
    "import pickle\n",
    "\n",
    "f = '/Users/thorwhalen/Dropbox/tmp/i2mint_docs_status.pkl'\n",
    "pickle.dump(repo_pages_status, open(f, 'wb'))"
   ]
  },
  {
   "cell_type": "code",
   "execution_count": null,
   "metadata": {},
   "outputs": [
    {
     "name": "stdout",
     "output_type": "stream",
     "text": [
      "16 out of 107 repos have been successfully configured for github pages\n"
     ]
    },
    {
     "data": {
      "text/plain": [
       "['i2mint/audiostream2py',\n",
       " 'i2mint/azuredol',\n",
       " 'i2mint/config2py',\n",
       " 'i2mint/dol',\n",
       " 'i2mint/epythet',\n",
       " 'i2mint/i2',\n",
       " 'i2mint/isee',\n",
       " 'i2mint/meshed',\n",
       " 'i2mint/mongodol',\n",
       " 'i2mint/pdfdol',\n",
       " 'i2mint/posted',\n",
       " 'i2mint/py2http',\n",
       " 'i2mint/py2json',\n",
       " 'i2mint/s3dol',\n",
       " 'i2mint/tabled',\n",
       " 'i2mint/wads']"
      ]
     },
     "metadata": {},
     "output_type": "display_data"
    }
   ],
   "source": [
    "# None value means that the process was successful\n",
    "successful = [k for k, v in repo_pages_status.items() if v is None]\n",
    "print(f\"{len(successful)} out of {len(repo_pages_status)} repos have been successfully configured for github pages\")\n",
    "successful"
   ]
  },
  {
   "cell_type": "code",
   "execution_count": null,
   "metadata": {},
   "outputs": [
    {
     "data": {
      "text/plain": [
       "{'ok': 16, 'missing_branch': 81, 'other': 10}"
      ]
     },
     "metadata": {},
     "output_type": "display_data"
    }
   ],
   "source": [
    "d = {\n",
    "    'ok': list(),\n",
    "    'missing_branch': list(),\n",
    "    'other': list()\n",
    "}\n",
    "\n",
    "for k, v in repo_pages_status.items():\n",
    "    if v is None:\n",
    "        d['ok'].append(k)\n",
    "    elif isinstance(v, str):\n",
    "        d['missing_branch'].append(k)\n",
    "    else:\n",
    "        d['other'].append(k)\n",
    "\n",
    "counts = {k: len(v) for k, v in d.items()}\n",
    "counts"
   ]
  },
  {
   "cell_type": "code",
   "execution_count": null,
   "metadata": {},
   "outputs": [
    {
     "name": "stdout",
     "output_type": "stream",
     "text": [
      "https://github.com/i2mint/chromadol\n",
      "https://github.com/i2mint/dol_cookbook\n",
      "https://github.com/i2mint/doodad\n",
      "https://github.com/i2mint/ju\n",
      "https://github.com/i2mint/kafkaposted\n",
      "https://github.com/i2mint/lkj\n",
      "https://github.com/i2mint/redisposted\n",
      "https://github.com/i2mint/sqldol\n",
      "https://github.com/i2mint/titbit\n",
      "https://github.com/i2mint/xdol\n"
     ]
    }
   ],
   "source": [
    "print('\\n'.join(f\"https://github.com/{x}\" for x in d['other']))"
   ]
  },
  {
   "cell_type": "code",
   "execution_count": null,
   "metadata": {},
   "outputs": [
    {
     "data": {
      "text/plain": [
       "['https://github.com/i2mint/aiofiledol',\n",
       " 'https://github.com/i2mint/arangodol',\n",
       " 'https://github.com/i2mint/atypes',\n",
       " 'https://github.com/i2mint/c2py',\n",
       " 'https://github.com/i2mint/content',\n",
       " 'https://github.com/i2mint/couchdol',\n",
       " 'https://github.com/i2mint/creek',\n",
       " 'https://github.com/i2mint/crude',\n",
       " 'https://github.com/i2mint/dacc',\n",
       " 'https://github.com/i2mint/dagapp']"
      ]
     },
     "metadata": {},
     "output_type": "display_data"
    }
   ],
   "source": [
    "missing_branch_urls = [f\"https://github.com/{x}\" for x in d['missing_branch']]\n",
    "missing_branch_urls[:10]"
   ]
  },
  {
   "cell_type": "code",
   "execution_count": null,
   "metadata": {},
   "outputs": [],
   "source": [
    "\n"
   ]
  },
  {
   "cell_type": "code",
   "execution_count": null,
   "metadata": {},
   "outputs": [],
   "source": []
  },
  {
   "cell_type": "code",
   "execution_count": null,
   "metadata": {},
   "outputs": [],
   "source": []
  },
  {
   "cell_type": "code",
   "execution_count": null,
   "metadata": {},
   "outputs": [],
   "source": [
    "# repo_pages_status"
   ]
  },
  {
   "cell_type": "code",
   "execution_count": null,
   "metadata": {},
   "outputs": [],
   "source": []
  },
  {
   "cell_type": "markdown",
   "metadata": {},
   "source": [
    "## Misc github pokes"
   ]
  },
  {
   "cell_type": "code",
   "execution_count": null,
   "metadata": {},
   "outputs": [],
   "source": [
    "from epythet.tools.published_docs import (\n",
    "    default_branch_and_commit_sha, repo_data, commit_data, ensure_branch\n",
    ")\n"
   ]
  },
  {
   "cell_type": "code",
   "execution_count": 11,
   "metadata": {},
   "outputs": [],
   "source": [
    "repo_stub = 'i2mint/kafkaposted'"
   ]
  },
  {
   "cell_type": "code",
   "execution_count": 13,
   "metadata": {},
   "outputs": [
    {
     "name": "stdout",
     "output_type": "stream",
     "text": [
      "97 fields in the repo_data for i2mint/kafkaposted.\n",
      "\n",
      "id, node_id, name, full_name, private, owner, html_url, description, fork, url,\n",
      "forks_url, keys_url, collaborators_url, teams_url, hooks_url, issue_events_url,\n",
      "events_url, assignees_url, branches_url, tags_url, blobs_url, git_tags_url,\n",
      "git_refs_url, trees_url, statuses_url, languages_url, stargazers_url,\n",
      "contributors_url, subscribers_url, subscription_url, commits_url,\n",
      "git_commits_url, comments_url, issue_comment_url, contents_url, compare_url,\n",
      "merges_url, archive_url, downloads_url, issues_url, pulls_url, milestones_url,\n",
      "notifications_url, labels_url, releases_url, deployments_url, created_at,\n",
      "updated_at, pushed_at, git_url, ssh_url, clone_url, svn_url, homepage, size,\n",
      "stargazers_count, watchers_count, language, has_issues, has_projects,\n",
      "has_downloads, has_wiki, has_pages, has_discussions, forks_count, mirror_url,\n",
      "archived, disabled, open_issues_count, license, allow_forking, is_template,\n",
      "web_commit_signoff_required, topics, visibility, forks, open_issues, watchers,\n",
      "default_branch, permissions, temp_clone_token, allow_squash_merge,\n",
      "allow_merge_commit, allow_rebase_merge, allow_auto_merge,\n",
      "delete_branch_on_merge, allow_update_branch, use_squash_pr_title_as_default,\n",
      "squash_merge_commit_message, squash_merge_commit_title, merge_commit_message,\n",
      "merge_commit_title, custom_properties, organization, security_and_analysis,\n",
      "network_count, subscribers_count\n"
     ]
    }
   ],
   "source": [
    "r = repo_data(repo_stub)\n",
    "print(f\"{len(r)} fields in the repo_data for {repo_stub}.\\n\")\n",
    "\n",
    "from lkj import wrapped_print\n",
    "\n",
    "wrapped_print(r)\n",
    "\n"
   ]
  },
  {
   "cell_type": "code",
   "execution_count": 14,
   "metadata": {},
   "outputs": [
    {
     "data": {
      "text/plain": [
       "{'default_branch': 'master',\n",
       " 'commit_sha': '0689485961069bef4a24847d8b088d6fcd443960'}"
      ]
     },
     "execution_count": 14,
     "metadata": {},
     "output_type": "execute_result"
    }
   ],
   "source": [
    "default_branch_and_commit_sha(repo_stub)"
   ]
  },
  {
   "cell_type": "code",
   "execution_count": null,
   "metadata": {},
   "outputs": [],
   "source": []
  },
  {
   "cell_type": "markdown",
   "metadata": {},
   "source": [
    "# isee get_new_version"
   ]
  },
  {
   "cell_type": "code",
   "execution_count": null,
   "metadata": {},
   "outputs": [
    {
     "data": {
      "text/plain": [
       "'0.1.vvv11'"
      ]
     },
     "metadata": {},
     "output_type": "display_data"
    }
   ],
   "source": [
    "from isee.generation_utils import get_new_version\n",
    "\n",
    "\n",
    "t = get_new_version(\n",
    "    work_tree='/Users/thorwhalen/Dropbox/py/proj/i/tabled',\n",
    "    version_patch_prefix='vvv'\n",
    ")\n",
    "t\n",
    "\n"
   ]
  },
  {
   "cell_type": "code",
   "execution_count": null,
   "metadata": {},
   "outputs": [
    {
     "data": {
      "text/plain": [
       "'gen ai- too much spend, too little benefit'"
      ]
     },
     "metadata": {},
     "output_type": "display_data"
    }
   ],
   "source": [
    "\"GEN AI- TOO MUCH SPEND, TOO LITTLE BENEFIT\".lower()"
   ]
  },
  {
   "cell_type": "code",
   "execution_count": null,
   "metadata": {},
   "outputs": [],
   "source": []
  },
  {
   "cell_type": "code",
   "execution_count": null,
   "metadata": {},
   "outputs": [],
   "source": []
  },
  {
   "cell_type": "code",
   "execution_count": null,
   "metadata": {},
   "outputs": [],
   "source": []
  },
  {
   "cell_type": "code",
   "execution_count": null,
   "metadata": {},
   "outputs": [],
   "source": []
  },
  {
   "cell_type": "code",
   "execution_count": null,
   "metadata": {},
   "outputs": [],
   "source": []
  },
  {
   "cell_type": "code",
   "execution_count": null,
   "metadata": {},
   "outputs": [],
   "source": []
  }
 ],
 "metadata": {
  "kernelspec": {
   "display_name": "p10",
   "language": "python",
   "name": "python3"
  },
  "language_info": {
   "codemirror_mode": {
    "name": "ipython",
    "version": 3
   },
   "file_extension": ".py",
   "mimetype": "text/x-python",
   "name": "python",
   "nbconvert_exporter": "python",
   "pygments_lexer": "ipython3",
   "version": "3.10.13"
  }
 },
 "nbformat": 4,
 "nbformat_minor": 2
}
